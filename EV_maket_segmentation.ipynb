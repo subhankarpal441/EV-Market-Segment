{
  "nbformat": 4,
  "nbformat_minor": 0,
  "metadata": {
    "colab": {
      "provenance": []
    },
    "kernelspec": {
      "name": "python3",
      "display_name": "Python 3"
    },
    "language_info": {
      "name": "python"
    }
  },
  "cells": [
    {
      "cell_type": "code",
      "execution_count": 82,
      "metadata": {
        "id": "5VhdybRs2NEv"
      },
      "outputs": [],
      "source": [
        "import pandas as pd\n",
        "import numpy as np\n",
        "import matplotlib.pyplot as plt\n",
        "import seaborn as sns\n",
        "import warnings\n",
        "warnings.filterwarnings('ignore')\n",
        "pd.set_option('display.max_columns',None)\n",
        "pd.set_option('display.max_rows',None)"
      ]
    },
    {
      "cell_type": "code",
      "source": [
        "data.shape"
      ],
      "metadata": {
        "colab": {
          "base_uri": "https://localhost:8080/"
        },
        "id": "7mlnWXOj2gli",
        "outputId": "2d9a9ff6-9c93-416f-ccd6-5b88875e556a"
      },
      "execution_count": 83,
      "outputs": [
        {
          "output_type": "execute_result",
          "data": {
            "text/plain": [
              "(1000, 15)"
            ]
          },
          "metadata": {},
          "execution_count": 83
        }
      ]
    },
    {
      "cell_type": "code",
      "source": [
        "data=pd.read_csv(\"Electric_Vehicle_Data.csv\")\n",
        "data_copy=data\n",
        "data.head()"
      ],
      "metadata": {
        "colab": {
          "base_uri": "https://localhost:8080/",
          "height": 458
        },
        "id": "PjWjpR7m2TDb",
        "outputId": "c7c02649-9020-4476-91aa-77c64fe0ad1b"
      },
      "execution_count": 84,
      "outputs": [
        {
          "output_type": "execute_result",
          "data": {
            "text/plain": [
              "   Unnamed: 0  Age       City Profession Marital Status Education  \\\n",
              "0           0   30      Nabha       None         Single  Graduate   \n",
              "1           1   27       Pune       None         Single  Graduate   \n",
              "2           2   32  Kashipur        None         Single  Graduate   \n",
              "3           3   55       Pune   Business         Single  Graduate   \n",
              "4           4   26     Satara       None         Single  Graduate   \n",
              "\n",
              "   No. of Family members  Annual Income  \\\n",
              "0                      5   1.193876e+06   \n",
              "1                      4   1.844540e+06   \n",
              "2                      4   2.948150e+06   \n",
              "3                      3   2.832380e+06   \n",
              "4                      4   2.638751e+06   \n",
              "\n",
              "  Would you prefer replacing all your vehicles to Electronic vehicles?  \\\n",
              "0                                              Maybe                     \n",
              "1                                                Yes                     \n",
              "2                                                Yes                     \n",
              "3                                              Maybe                     \n",
              "4                                                Yes                     \n",
              "\n",
              "  If Yes/Maybe what type of  EV would you prefer?  \\\n",
              "0                                             SUV   \n",
              "1                                             SUV   \n",
              "2                                       Hatchback   \n",
              "3                                       Hatchback   \n",
              "4                                           Sedan   \n",
              "\n",
              "  Do you think Electronic Vehicles are economical?  \\\n",
              "0                                              Yes   \n",
              "1                                              Yes   \n",
              "2                                              Yes   \n",
              "3                                               No   \n",
              "4                                              Yes   \n",
              "\n",
              "  Which brand of vehicle do you currently own?  \\\n",
              "0                                      Hyundai   \n",
              "1                                        Honda   \n",
              "2                                          KIA   \n",
              "3                                      Hyundai   \n",
              "4                                     McLaren    \n",
              "\n",
              "  How much money could you spend on an Electronic vehicle?  \\\n",
              "0                                           <5 lakhs         \n",
              "1                                          <15 lakhs         \n",
              "2                                          <15 lakhs         \n",
              "3                                           <5 lakhs         \n",
              "4                                          <15 lakhs         \n",
              "\n",
              "   Preference for wheels in EV  \\\n",
              "0                            2   \n",
              "1                            4   \n",
              "2                            4   \n",
              "3                            4   \n",
              "4                            4   \n",
              "\n",
              "  Do you think Electronic vehicles will replace fuel cars in India?  \n",
              "0                                   I don't think so                 \n",
              "1                                   Yes, in <20years                 \n",
              "2                                   Yes, in <20years                 \n",
              "3                                  Yes, in <10 years                 \n",
              "4                                   Yes, in <20years                 "
            ],
            "text/html": [
              "\n",
              "  <div id=\"df-40bb7e9b-8f67-4a48-b098-8ffe22f2a4af\">\n",
              "    <div class=\"colab-df-container\">\n",
              "      <div>\n",
              "<style scoped>\n",
              "    .dataframe tbody tr th:only-of-type {\n",
              "        vertical-align: middle;\n",
              "    }\n",
              "\n",
              "    .dataframe tbody tr th {\n",
              "        vertical-align: top;\n",
              "    }\n",
              "\n",
              "    .dataframe thead th {\n",
              "        text-align: right;\n",
              "    }\n",
              "</style>\n",
              "<table border=\"1\" class=\"dataframe\">\n",
              "  <thead>\n",
              "    <tr style=\"text-align: right;\">\n",
              "      <th></th>\n",
              "      <th>Unnamed: 0</th>\n",
              "      <th>Age</th>\n",
              "      <th>City</th>\n",
              "      <th>Profession</th>\n",
              "      <th>Marital Status</th>\n",
              "      <th>Education</th>\n",
              "      <th>No. of Family members</th>\n",
              "      <th>Annual Income</th>\n",
              "      <th>Would you prefer replacing all your vehicles to Electronic vehicles?</th>\n",
              "      <th>If Yes/Maybe what type of  EV would you prefer?</th>\n",
              "      <th>Do you think Electronic Vehicles are economical?</th>\n",
              "      <th>Which brand of vehicle do you currently own?</th>\n",
              "      <th>How much money could you spend on an Electronic vehicle?</th>\n",
              "      <th>Preference for wheels in EV</th>\n",
              "      <th>Do you think Electronic vehicles will replace fuel cars in India?</th>\n",
              "    </tr>\n",
              "  </thead>\n",
              "  <tbody>\n",
              "    <tr>\n",
              "      <th>0</th>\n",
              "      <td>0</td>\n",
              "      <td>30</td>\n",
              "      <td>Nabha</td>\n",
              "      <td>None</td>\n",
              "      <td>Single</td>\n",
              "      <td>Graduate</td>\n",
              "      <td>5</td>\n",
              "      <td>1.193876e+06</td>\n",
              "      <td>Maybe</td>\n",
              "      <td>SUV</td>\n",
              "      <td>Yes</td>\n",
              "      <td>Hyundai</td>\n",
              "      <td>&lt;5 lakhs</td>\n",
              "      <td>2</td>\n",
              "      <td>I don't think so</td>\n",
              "    </tr>\n",
              "    <tr>\n",
              "      <th>1</th>\n",
              "      <td>1</td>\n",
              "      <td>27</td>\n",
              "      <td>Pune</td>\n",
              "      <td>None</td>\n",
              "      <td>Single</td>\n",
              "      <td>Graduate</td>\n",
              "      <td>4</td>\n",
              "      <td>1.844540e+06</td>\n",
              "      <td>Yes</td>\n",
              "      <td>SUV</td>\n",
              "      <td>Yes</td>\n",
              "      <td>Honda</td>\n",
              "      <td>&lt;15 lakhs</td>\n",
              "      <td>4</td>\n",
              "      <td>Yes, in &lt;20years</td>\n",
              "    </tr>\n",
              "    <tr>\n",
              "      <th>2</th>\n",
              "      <td>2</td>\n",
              "      <td>32</td>\n",
              "      <td>Kashipur</td>\n",
              "      <td>None</td>\n",
              "      <td>Single</td>\n",
              "      <td>Graduate</td>\n",
              "      <td>4</td>\n",
              "      <td>2.948150e+06</td>\n",
              "      <td>Yes</td>\n",
              "      <td>Hatchback</td>\n",
              "      <td>Yes</td>\n",
              "      <td>KIA</td>\n",
              "      <td>&lt;15 lakhs</td>\n",
              "      <td>4</td>\n",
              "      <td>Yes, in &lt;20years</td>\n",
              "    </tr>\n",
              "    <tr>\n",
              "      <th>3</th>\n",
              "      <td>3</td>\n",
              "      <td>55</td>\n",
              "      <td>Pune</td>\n",
              "      <td>Business</td>\n",
              "      <td>Single</td>\n",
              "      <td>Graduate</td>\n",
              "      <td>3</td>\n",
              "      <td>2.832380e+06</td>\n",
              "      <td>Maybe</td>\n",
              "      <td>Hatchback</td>\n",
              "      <td>No</td>\n",
              "      <td>Hyundai</td>\n",
              "      <td>&lt;5 lakhs</td>\n",
              "      <td>4</td>\n",
              "      <td>Yes, in &lt;10 years</td>\n",
              "    </tr>\n",
              "    <tr>\n",
              "      <th>4</th>\n",
              "      <td>4</td>\n",
              "      <td>26</td>\n",
              "      <td>Satara</td>\n",
              "      <td>None</td>\n",
              "      <td>Single</td>\n",
              "      <td>Graduate</td>\n",
              "      <td>4</td>\n",
              "      <td>2.638751e+06</td>\n",
              "      <td>Yes</td>\n",
              "      <td>Sedan</td>\n",
              "      <td>Yes</td>\n",
              "      <td>McLaren</td>\n",
              "      <td>&lt;15 lakhs</td>\n",
              "      <td>4</td>\n",
              "      <td>Yes, in &lt;20years</td>\n",
              "    </tr>\n",
              "  </tbody>\n",
              "</table>\n",
              "</div>\n",
              "      <button class=\"colab-df-convert\" onclick=\"convertToInteractive('df-40bb7e9b-8f67-4a48-b098-8ffe22f2a4af')\"\n",
              "              title=\"Convert this dataframe to an interactive table.\"\n",
              "              style=\"display:none;\">\n",
              "        \n",
              "  <svg xmlns=\"http://www.w3.org/2000/svg\" height=\"24px\"viewBox=\"0 0 24 24\"\n",
              "       width=\"24px\">\n",
              "    <path d=\"M0 0h24v24H0V0z\" fill=\"none\"/>\n",
              "    <path d=\"M18.56 5.44l.94 2.06.94-2.06 2.06-.94-2.06-.94-.94-2.06-.94 2.06-2.06.94zm-11 1L8.5 8.5l.94-2.06 2.06-.94-2.06-.94L8.5 2.5l-.94 2.06-2.06.94zm10 10l.94 2.06.94-2.06 2.06-.94-2.06-.94-.94-2.06-.94 2.06-2.06.94z\"/><path d=\"M17.41 7.96l-1.37-1.37c-.4-.4-.92-.59-1.43-.59-.52 0-1.04.2-1.43.59L10.3 9.45l-7.72 7.72c-.78.78-.78 2.05 0 2.83L4 21.41c.39.39.9.59 1.41.59.51 0 1.02-.2 1.41-.59l7.78-7.78 2.81-2.81c.8-.78.8-2.07 0-2.86zM5.41 20L4 18.59l7.72-7.72 1.47 1.35L5.41 20z\"/>\n",
              "  </svg>\n",
              "      </button>\n",
              "      \n",
              "  <style>\n",
              "    .colab-df-container {\n",
              "      display:flex;\n",
              "      flex-wrap:wrap;\n",
              "      gap: 12px;\n",
              "    }\n",
              "\n",
              "    .colab-df-convert {\n",
              "      background-color: #E8F0FE;\n",
              "      border: none;\n",
              "      border-radius: 50%;\n",
              "      cursor: pointer;\n",
              "      display: none;\n",
              "      fill: #1967D2;\n",
              "      height: 32px;\n",
              "      padding: 0 0 0 0;\n",
              "      width: 32px;\n",
              "    }\n",
              "\n",
              "    .colab-df-convert:hover {\n",
              "      background-color: #E2EBFA;\n",
              "      box-shadow: 0px 1px 2px rgba(60, 64, 67, 0.3), 0px 1px 3px 1px rgba(60, 64, 67, 0.15);\n",
              "      fill: #174EA6;\n",
              "    }\n",
              "\n",
              "    [theme=dark] .colab-df-convert {\n",
              "      background-color: #3B4455;\n",
              "      fill: #D2E3FC;\n",
              "    }\n",
              "\n",
              "    [theme=dark] .colab-df-convert:hover {\n",
              "      background-color: #434B5C;\n",
              "      box-shadow: 0px 1px 3px 1px rgba(0, 0, 0, 0.15);\n",
              "      filter: drop-shadow(0px 1px 2px rgba(0, 0, 0, 0.3));\n",
              "      fill: #FFFFFF;\n",
              "    }\n",
              "  </style>\n",
              "\n",
              "      <script>\n",
              "        const buttonEl =\n",
              "          document.querySelector('#df-40bb7e9b-8f67-4a48-b098-8ffe22f2a4af button.colab-df-convert');\n",
              "        buttonEl.style.display =\n",
              "          google.colab.kernel.accessAllowed ? 'block' : 'none';\n",
              "\n",
              "        async function convertToInteractive(key) {\n",
              "          const element = document.querySelector('#df-40bb7e9b-8f67-4a48-b098-8ffe22f2a4af');\n",
              "          const dataTable =\n",
              "            await google.colab.kernel.invokeFunction('convertToInteractive',\n",
              "                                                     [key], {});\n",
              "          if (!dataTable) return;\n",
              "\n",
              "          const docLinkHtml = 'Like what you see? Visit the ' +\n",
              "            '<a target=\"_blank\" href=https://colab.research.google.com/notebooks/data_table.ipynb>data table notebook</a>'\n",
              "            + ' to learn more about interactive tables.';\n",
              "          element.innerHTML = '';\n",
              "          dataTable['output_type'] = 'display_data';\n",
              "          await google.colab.output.renderOutput(dataTable, element);\n",
              "          const docLink = document.createElement('div');\n",
              "          docLink.innerHTML = docLinkHtml;\n",
              "          element.appendChild(docLink);\n",
              "        }\n",
              "      </script>\n",
              "    </div>\n",
              "  </div>\n",
              "  "
            ]
          },
          "metadata": {},
          "execution_count": 84
        }
      ]
    },
    {
      "cell_type": "code",
      "source": [
        "data.info()"
      ],
      "metadata": {
        "colab": {
          "base_uri": "https://localhost:8080/"
        },
        "id": "SI4QjPOX2o46",
        "outputId": "3446c4ac-d1c8-4654-d9e6-cf971a4f0643"
      },
      "execution_count": 85,
      "outputs": [
        {
          "output_type": "stream",
          "name": "stdout",
          "text": [
            "<class 'pandas.core.frame.DataFrame'>\n",
            "RangeIndex: 1000 entries, 0 to 999\n",
            "Data columns (total 15 columns):\n",
            " #   Column                                                                Non-Null Count  Dtype  \n",
            "---  ------                                                                --------------  -----  \n",
            " 0   Unnamed: 0                                                            1000 non-null   int64  \n",
            " 1   Age                                                                   1000 non-null   int64  \n",
            " 2   City                                                                  1000 non-null   object \n",
            " 3   Profession                                                            1000 non-null   object \n",
            " 4   Marital Status                                                        1000 non-null   object \n",
            " 5   Education                                                             1000 non-null   object \n",
            " 6   No. of Family members                                                 1000 non-null   int64  \n",
            " 7   Annual Income                                                         1000 non-null   float64\n",
            " 8   Would you prefer replacing all your vehicles to Electronic vehicles?  1000 non-null   object \n",
            " 9   If Yes/Maybe what type of  EV would you prefer?                       1000 non-null   object \n",
            " 10  Do you think Electronic Vehicles are economical?                      1000 non-null   object \n",
            " 11  Which brand of vehicle do you currently own?                          1000 non-null   object \n",
            " 12  How much money could you spend on an Electronic vehicle?              1000 non-null   object \n",
            " 13  Preference for wheels in EV                                           1000 non-null   int64  \n",
            " 14  Do you think Electronic vehicles will replace fuel cars in India?     1000 non-null   object \n",
            "dtypes: float64(1), int64(4), object(10)\n",
            "memory usage: 117.3+ KB\n"
          ]
        }
      ]
    },
    {
      "cell_type": "code",
      "source": [
        "data.describe()"
      ],
      "metadata": {
        "colab": {
          "base_uri": "https://localhost:8080/",
          "height": 300
        },
        "id": "-bHRyHui2rDC",
        "outputId": "a8fe4b25-76ad-4e77-cf06-c83637514ac7"
      },
      "execution_count": 86,
      "outputs": [
        {
          "output_type": "execute_result",
          "data": {
            "text/plain": [
              "        Unnamed: 0          Age  No. of Family members  Annual Income  \\\n",
              "count  1000.000000  1000.000000            1000.000000   1.000000e+03   \n",
              "mean    499.500000    31.800000               4.118000   2.258342e+06   \n",
              "std     288.819436    11.294847               1.469774   9.993558e+05   \n",
              "min       0.000000    15.000000               0.000000  -3.761509e+05   \n",
              "25%     249.750000    26.000000               4.000000   1.782116e+06   \n",
              "50%     499.500000    29.000000               4.000000   2.329246e+06   \n",
              "75%     749.250000    31.000000               5.000000   2.753170e+06   \n",
              "max     999.000000   118.000000               8.000000   1.282128e+07   \n",
              "\n",
              "       Preference for wheels in EV  \n",
              "count                  1000.000000  \n",
              "mean                      3.349000  \n",
              "std                       0.887686  \n",
              "min                       2.000000  \n",
              "25%                       2.000000  \n",
              "50%                       4.000000  \n",
              "75%                       4.000000  \n",
              "max                       4.000000  "
            ],
            "text/html": [
              "\n",
              "  <div id=\"df-85cdae1e-88be-4ac8-bd63-9fa6e9896a25\">\n",
              "    <div class=\"colab-df-container\">\n",
              "      <div>\n",
              "<style scoped>\n",
              "    .dataframe tbody tr th:only-of-type {\n",
              "        vertical-align: middle;\n",
              "    }\n",
              "\n",
              "    .dataframe tbody tr th {\n",
              "        vertical-align: top;\n",
              "    }\n",
              "\n",
              "    .dataframe thead th {\n",
              "        text-align: right;\n",
              "    }\n",
              "</style>\n",
              "<table border=\"1\" class=\"dataframe\">\n",
              "  <thead>\n",
              "    <tr style=\"text-align: right;\">\n",
              "      <th></th>\n",
              "      <th>Unnamed: 0</th>\n",
              "      <th>Age</th>\n",
              "      <th>No. of Family members</th>\n",
              "      <th>Annual Income</th>\n",
              "      <th>Preference for wheels in EV</th>\n",
              "    </tr>\n",
              "  </thead>\n",
              "  <tbody>\n",
              "    <tr>\n",
              "      <th>count</th>\n",
              "      <td>1000.000000</td>\n",
              "      <td>1000.000000</td>\n",
              "      <td>1000.000000</td>\n",
              "      <td>1.000000e+03</td>\n",
              "      <td>1000.000000</td>\n",
              "    </tr>\n",
              "    <tr>\n",
              "      <th>mean</th>\n",
              "      <td>499.500000</td>\n",
              "      <td>31.800000</td>\n",
              "      <td>4.118000</td>\n",
              "      <td>2.258342e+06</td>\n",
              "      <td>3.349000</td>\n",
              "    </tr>\n",
              "    <tr>\n",
              "      <th>std</th>\n",
              "      <td>288.819436</td>\n",
              "      <td>11.294847</td>\n",
              "      <td>1.469774</td>\n",
              "      <td>9.993558e+05</td>\n",
              "      <td>0.887686</td>\n",
              "    </tr>\n",
              "    <tr>\n",
              "      <th>min</th>\n",
              "      <td>0.000000</td>\n",
              "      <td>15.000000</td>\n",
              "      <td>0.000000</td>\n",
              "      <td>-3.761509e+05</td>\n",
              "      <td>2.000000</td>\n",
              "    </tr>\n",
              "    <tr>\n",
              "      <th>25%</th>\n",
              "      <td>249.750000</td>\n",
              "      <td>26.000000</td>\n",
              "      <td>4.000000</td>\n",
              "      <td>1.782116e+06</td>\n",
              "      <td>2.000000</td>\n",
              "    </tr>\n",
              "    <tr>\n",
              "      <th>50%</th>\n",
              "      <td>499.500000</td>\n",
              "      <td>29.000000</td>\n",
              "      <td>4.000000</td>\n",
              "      <td>2.329246e+06</td>\n",
              "      <td>4.000000</td>\n",
              "    </tr>\n",
              "    <tr>\n",
              "      <th>75%</th>\n",
              "      <td>749.250000</td>\n",
              "      <td>31.000000</td>\n",
              "      <td>5.000000</td>\n",
              "      <td>2.753170e+06</td>\n",
              "      <td>4.000000</td>\n",
              "    </tr>\n",
              "    <tr>\n",
              "      <th>max</th>\n",
              "      <td>999.000000</td>\n",
              "      <td>118.000000</td>\n",
              "      <td>8.000000</td>\n",
              "      <td>1.282128e+07</td>\n",
              "      <td>4.000000</td>\n",
              "    </tr>\n",
              "  </tbody>\n",
              "</table>\n",
              "</div>\n",
              "      <button class=\"colab-df-convert\" onclick=\"convertToInteractive('df-85cdae1e-88be-4ac8-bd63-9fa6e9896a25')\"\n",
              "              title=\"Convert this dataframe to an interactive table.\"\n",
              "              style=\"display:none;\">\n",
              "        \n",
              "  <svg xmlns=\"http://www.w3.org/2000/svg\" height=\"24px\"viewBox=\"0 0 24 24\"\n",
              "       width=\"24px\">\n",
              "    <path d=\"M0 0h24v24H0V0z\" fill=\"none\"/>\n",
              "    <path d=\"M18.56 5.44l.94 2.06.94-2.06 2.06-.94-2.06-.94-.94-2.06-.94 2.06-2.06.94zm-11 1L8.5 8.5l.94-2.06 2.06-.94-2.06-.94L8.5 2.5l-.94 2.06-2.06.94zm10 10l.94 2.06.94-2.06 2.06-.94-2.06-.94-.94-2.06-.94 2.06-2.06.94z\"/><path d=\"M17.41 7.96l-1.37-1.37c-.4-.4-.92-.59-1.43-.59-.52 0-1.04.2-1.43.59L10.3 9.45l-7.72 7.72c-.78.78-.78 2.05 0 2.83L4 21.41c.39.39.9.59 1.41.59.51 0 1.02-.2 1.41-.59l7.78-7.78 2.81-2.81c.8-.78.8-2.07 0-2.86zM5.41 20L4 18.59l7.72-7.72 1.47 1.35L5.41 20z\"/>\n",
              "  </svg>\n",
              "      </button>\n",
              "      \n",
              "  <style>\n",
              "    .colab-df-container {\n",
              "      display:flex;\n",
              "      flex-wrap:wrap;\n",
              "      gap: 12px;\n",
              "    }\n",
              "\n",
              "    .colab-df-convert {\n",
              "      background-color: #E8F0FE;\n",
              "      border: none;\n",
              "      border-radius: 50%;\n",
              "      cursor: pointer;\n",
              "      display: none;\n",
              "      fill: #1967D2;\n",
              "      height: 32px;\n",
              "      padding: 0 0 0 0;\n",
              "      width: 32px;\n",
              "    }\n",
              "\n",
              "    .colab-df-convert:hover {\n",
              "      background-color: #E2EBFA;\n",
              "      box-shadow: 0px 1px 2px rgba(60, 64, 67, 0.3), 0px 1px 3px 1px rgba(60, 64, 67, 0.15);\n",
              "      fill: #174EA6;\n",
              "    }\n",
              "\n",
              "    [theme=dark] .colab-df-convert {\n",
              "      background-color: #3B4455;\n",
              "      fill: #D2E3FC;\n",
              "    }\n",
              "\n",
              "    [theme=dark] .colab-df-convert:hover {\n",
              "      background-color: #434B5C;\n",
              "      box-shadow: 0px 1px 3px 1px rgba(0, 0, 0, 0.15);\n",
              "      filter: drop-shadow(0px 1px 2px rgba(0, 0, 0, 0.3));\n",
              "      fill: #FFFFFF;\n",
              "    }\n",
              "  </style>\n",
              "\n",
              "      <script>\n",
              "        const buttonEl =\n",
              "          document.querySelector('#df-85cdae1e-88be-4ac8-bd63-9fa6e9896a25 button.colab-df-convert');\n",
              "        buttonEl.style.display =\n",
              "          google.colab.kernel.accessAllowed ? 'block' : 'none';\n",
              "\n",
              "        async function convertToInteractive(key) {\n",
              "          const element = document.querySelector('#df-85cdae1e-88be-4ac8-bd63-9fa6e9896a25');\n",
              "          const dataTable =\n",
              "            await google.colab.kernel.invokeFunction('convertToInteractive',\n",
              "                                                     [key], {});\n",
              "          if (!dataTable) return;\n",
              "\n",
              "          const docLinkHtml = 'Like what you see? Visit the ' +\n",
              "            '<a target=\"_blank\" href=https://colab.research.google.com/notebooks/data_table.ipynb>data table notebook</a>'\n",
              "            + ' to learn more about interactive tables.';\n",
              "          element.innerHTML = '';\n",
              "          dataTable['output_type'] = 'display_data';\n",
              "          await google.colab.output.renderOutput(dataTable, element);\n",
              "          const docLink = document.createElement('div');\n",
              "          docLink.innerHTML = docLinkHtml;\n",
              "          element.appendChild(docLink);\n",
              "        }\n",
              "      </script>\n",
              "    </div>\n",
              "  </div>\n",
              "  "
            ]
          },
          "metadata": {},
          "execution_count": 86
        }
      ]
    },
    {
      "cell_type": "code",
      "source": [
        "data.describe(include=\"object\")"
      ],
      "metadata": {
        "colab": {
          "base_uri": "https://localhost:8080/",
          "height": 271
        },
        "id": "6WeatRYe2su6",
        "outputId": "e92954c7-fe8c-4a29-84bd-fb6ca1c77cf3"
      },
      "execution_count": 87,
      "outputs": [
        {
          "output_type": "execute_result",
          "data": {
            "text/plain": [
              "        City Profession Marital Status Education  \\\n",
              "count   1000       1000           1000      1000   \n",
              "unique    35          4              2         2   \n",
              "top     Pune       None         Single  Graduate   \n",
              "freq     570        460            638       693   \n",
              "\n",
              "       Would you prefer replacing all your vehicles to Electronic vehicles?  \\\n",
              "count                                                1000                     \n",
              "unique                                                  3                     \n",
              "top                                                   Yes                     \n",
              "freq                                                  663                     \n",
              "\n",
              "       If Yes/Maybe what type of  EV would you prefer?  \\\n",
              "count                                             1000   \n",
              "unique                                               5   \n",
              "top                                                SUV   \n",
              "freq                                               467   \n",
              "\n",
              "       Do you think Electronic Vehicles are economical?  \\\n",
              "count                                              1000   \n",
              "unique                                                3   \n",
              "top                                                 Yes   \n",
              "freq                                                768   \n",
              "\n",
              "       Which brand of vehicle do you currently own?  \\\n",
              "count                                          1000   \n",
              "unique                                           16   \n",
              "top                                            Tata   \n",
              "freq                                            186   \n",
              "\n",
              "       How much money could you spend on an Electronic vehicle?  \\\n",
              "count                                                1000         \n",
              "unique                                                  8         \n",
              "top                                             <15 lakhs         \n",
              "freq                                                  483         \n",
              "\n",
              "       Do you think Electronic vehicles will replace fuel cars in India?  \n",
              "count                                                1000                 \n",
              "unique                                                  4                 \n",
              "top                                     Yes, in <10 years                 \n",
              "freq                                                  419                 "
            ],
            "text/html": [
              "\n",
              "  <div id=\"df-25f8f97a-86fc-42e5-b5fb-6104ae9c4be8\">\n",
              "    <div class=\"colab-df-container\">\n",
              "      <div>\n",
              "<style scoped>\n",
              "    .dataframe tbody tr th:only-of-type {\n",
              "        vertical-align: middle;\n",
              "    }\n",
              "\n",
              "    .dataframe tbody tr th {\n",
              "        vertical-align: top;\n",
              "    }\n",
              "\n",
              "    .dataframe thead th {\n",
              "        text-align: right;\n",
              "    }\n",
              "</style>\n",
              "<table border=\"1\" class=\"dataframe\">\n",
              "  <thead>\n",
              "    <tr style=\"text-align: right;\">\n",
              "      <th></th>\n",
              "      <th>City</th>\n",
              "      <th>Profession</th>\n",
              "      <th>Marital Status</th>\n",
              "      <th>Education</th>\n",
              "      <th>Would you prefer replacing all your vehicles to Electronic vehicles?</th>\n",
              "      <th>If Yes/Maybe what type of  EV would you prefer?</th>\n",
              "      <th>Do you think Electronic Vehicles are economical?</th>\n",
              "      <th>Which brand of vehicle do you currently own?</th>\n",
              "      <th>How much money could you spend on an Electronic vehicle?</th>\n",
              "      <th>Do you think Electronic vehicles will replace fuel cars in India?</th>\n",
              "    </tr>\n",
              "  </thead>\n",
              "  <tbody>\n",
              "    <tr>\n",
              "      <th>count</th>\n",
              "      <td>1000</td>\n",
              "      <td>1000</td>\n",
              "      <td>1000</td>\n",
              "      <td>1000</td>\n",
              "      <td>1000</td>\n",
              "      <td>1000</td>\n",
              "      <td>1000</td>\n",
              "      <td>1000</td>\n",
              "      <td>1000</td>\n",
              "      <td>1000</td>\n",
              "    </tr>\n",
              "    <tr>\n",
              "      <th>unique</th>\n",
              "      <td>35</td>\n",
              "      <td>4</td>\n",
              "      <td>2</td>\n",
              "      <td>2</td>\n",
              "      <td>3</td>\n",
              "      <td>5</td>\n",
              "      <td>3</td>\n",
              "      <td>16</td>\n",
              "      <td>8</td>\n",
              "      <td>4</td>\n",
              "    </tr>\n",
              "    <tr>\n",
              "      <th>top</th>\n",
              "      <td>Pune</td>\n",
              "      <td>None</td>\n",
              "      <td>Single</td>\n",
              "      <td>Graduate</td>\n",
              "      <td>Yes</td>\n",
              "      <td>SUV</td>\n",
              "      <td>Yes</td>\n",
              "      <td>Tata</td>\n",
              "      <td>&lt;15 lakhs</td>\n",
              "      <td>Yes, in &lt;10 years</td>\n",
              "    </tr>\n",
              "    <tr>\n",
              "      <th>freq</th>\n",
              "      <td>570</td>\n",
              "      <td>460</td>\n",
              "      <td>638</td>\n",
              "      <td>693</td>\n",
              "      <td>663</td>\n",
              "      <td>467</td>\n",
              "      <td>768</td>\n",
              "      <td>186</td>\n",
              "      <td>483</td>\n",
              "      <td>419</td>\n",
              "    </tr>\n",
              "  </tbody>\n",
              "</table>\n",
              "</div>\n",
              "      <button class=\"colab-df-convert\" onclick=\"convertToInteractive('df-25f8f97a-86fc-42e5-b5fb-6104ae9c4be8')\"\n",
              "              title=\"Convert this dataframe to an interactive table.\"\n",
              "              style=\"display:none;\">\n",
              "        \n",
              "  <svg xmlns=\"http://www.w3.org/2000/svg\" height=\"24px\"viewBox=\"0 0 24 24\"\n",
              "       width=\"24px\">\n",
              "    <path d=\"M0 0h24v24H0V0z\" fill=\"none\"/>\n",
              "    <path d=\"M18.56 5.44l.94 2.06.94-2.06 2.06-.94-2.06-.94-.94-2.06-.94 2.06-2.06.94zm-11 1L8.5 8.5l.94-2.06 2.06-.94-2.06-.94L8.5 2.5l-.94 2.06-2.06.94zm10 10l.94 2.06.94-2.06 2.06-.94-2.06-.94-.94-2.06-.94 2.06-2.06.94z\"/><path d=\"M17.41 7.96l-1.37-1.37c-.4-.4-.92-.59-1.43-.59-.52 0-1.04.2-1.43.59L10.3 9.45l-7.72 7.72c-.78.78-.78 2.05 0 2.83L4 21.41c.39.39.9.59 1.41.59.51 0 1.02-.2 1.41-.59l7.78-7.78 2.81-2.81c.8-.78.8-2.07 0-2.86zM5.41 20L4 18.59l7.72-7.72 1.47 1.35L5.41 20z\"/>\n",
              "  </svg>\n",
              "      </button>\n",
              "      \n",
              "  <style>\n",
              "    .colab-df-container {\n",
              "      display:flex;\n",
              "      flex-wrap:wrap;\n",
              "      gap: 12px;\n",
              "    }\n",
              "\n",
              "    .colab-df-convert {\n",
              "      background-color: #E8F0FE;\n",
              "      border: none;\n",
              "      border-radius: 50%;\n",
              "      cursor: pointer;\n",
              "      display: none;\n",
              "      fill: #1967D2;\n",
              "      height: 32px;\n",
              "      padding: 0 0 0 0;\n",
              "      width: 32px;\n",
              "    }\n",
              "\n",
              "    .colab-df-convert:hover {\n",
              "      background-color: #E2EBFA;\n",
              "      box-shadow: 0px 1px 2px rgba(60, 64, 67, 0.3), 0px 1px 3px 1px rgba(60, 64, 67, 0.15);\n",
              "      fill: #174EA6;\n",
              "    }\n",
              "\n",
              "    [theme=dark] .colab-df-convert {\n",
              "      background-color: #3B4455;\n",
              "      fill: #D2E3FC;\n",
              "    }\n",
              "\n",
              "    [theme=dark] .colab-df-convert:hover {\n",
              "      background-color: #434B5C;\n",
              "      box-shadow: 0px 1px 3px 1px rgba(0, 0, 0, 0.15);\n",
              "      filter: drop-shadow(0px 1px 2px rgba(0, 0, 0, 0.3));\n",
              "      fill: #FFFFFF;\n",
              "    }\n",
              "  </style>\n",
              "\n",
              "      <script>\n",
              "        const buttonEl =\n",
              "          document.querySelector('#df-25f8f97a-86fc-42e5-b5fb-6104ae9c4be8 button.colab-df-convert');\n",
              "        buttonEl.style.display =\n",
              "          google.colab.kernel.accessAllowed ? 'block' : 'none';\n",
              "\n",
              "        async function convertToInteractive(key) {\n",
              "          const element = document.querySelector('#df-25f8f97a-86fc-42e5-b5fb-6104ae9c4be8');\n",
              "          const dataTable =\n",
              "            await google.colab.kernel.invokeFunction('convertToInteractive',\n",
              "                                                     [key], {});\n",
              "          if (!dataTable) return;\n",
              "\n",
              "          const docLinkHtml = 'Like what you see? Visit the ' +\n",
              "            '<a target=\"_blank\" href=https://colab.research.google.com/notebooks/data_table.ipynb>data table notebook</a>'\n",
              "            + ' to learn more about interactive tables.';\n",
              "          element.innerHTML = '';\n",
              "          dataTable['output_type'] = 'display_data';\n",
              "          await google.colab.output.renderOutput(dataTable, element);\n",
              "          const docLink = document.createElement('div');\n",
              "          docLink.innerHTML = docLinkHtml;\n",
              "          element.appendChild(docLink);\n",
              "        }\n",
              "      </script>\n",
              "    </div>\n",
              "  </div>\n",
              "  "
            ]
          },
          "metadata": {},
          "execution_count": 87
        }
      ]
    },
    {
      "cell_type": "code",
      "source": [
        "data.columns"
      ],
      "metadata": {
        "colab": {
          "base_uri": "https://localhost:8080/"
        },
        "id": "MsE6huC-2uLD",
        "outputId": "f8b4ffa0-3d0e-4b77-dbec-b53df01afbcf"
      },
      "execution_count": 88,
      "outputs": [
        {
          "output_type": "execute_result",
          "data": {
            "text/plain": [
              "Index(['Unnamed: 0', 'Age', 'City', 'Profession', 'Marital Status',\n",
              "       'Education', 'No. of Family members', 'Annual Income',\n",
              "       'Would you prefer replacing all your vehicles to Electronic vehicles?',\n",
              "       'If Yes/Maybe what type of  EV would you prefer?',\n",
              "       'Do you think Electronic Vehicles are economical?',\n",
              "       'Which brand of vehicle do you currently own?',\n",
              "       'How much money could you spend on an Electronic vehicle?',\n",
              "       'Preference for wheels in EV',\n",
              "       'Do you think Electronic vehicles will replace fuel cars in India?'],\n",
              "      dtype='object')"
            ]
          },
          "metadata": {},
          "execution_count": 88
        }
      ]
    },
    {
      "cell_type": "code",
      "source": [
        "data=data.drop(\"Unnamed: 0\",axis=1)"
      ],
      "metadata": {
        "id": "4Mq6ASoH2v1i"
      },
      "execution_count": 89,
      "outputs": []
    },
    {
      "cell_type": "code",
      "source": [
        "data.head()"
      ],
      "metadata": {
        "colab": {
          "base_uri": "https://localhost:8080/",
          "height": 423
        },
        "id": "Qur6iYAD2xlC",
        "outputId": "a79cb05b-5fc4-4850-ab6d-dec87d53781a"
      },
      "execution_count": 90,
      "outputs": [
        {
          "output_type": "execute_result",
          "data": {
            "text/plain": [
              "   Age       City Profession Marital Status Education  No. of Family members  \\\n",
              "0   30      Nabha       None         Single  Graduate                      5   \n",
              "1   27       Pune       None         Single  Graduate                      4   \n",
              "2   32  Kashipur        None         Single  Graduate                      4   \n",
              "3   55       Pune   Business         Single  Graduate                      3   \n",
              "4   26     Satara       None         Single  Graduate                      4   \n",
              "\n",
              "   Annual Income  \\\n",
              "0   1.193876e+06   \n",
              "1   1.844540e+06   \n",
              "2   2.948150e+06   \n",
              "3   2.832380e+06   \n",
              "4   2.638751e+06   \n",
              "\n",
              "  Would you prefer replacing all your vehicles to Electronic vehicles?  \\\n",
              "0                                              Maybe                     \n",
              "1                                                Yes                     \n",
              "2                                                Yes                     \n",
              "3                                              Maybe                     \n",
              "4                                                Yes                     \n",
              "\n",
              "  If Yes/Maybe what type of  EV would you prefer?  \\\n",
              "0                                             SUV   \n",
              "1                                             SUV   \n",
              "2                                       Hatchback   \n",
              "3                                       Hatchback   \n",
              "4                                           Sedan   \n",
              "\n",
              "  Do you think Electronic Vehicles are economical?  \\\n",
              "0                                              Yes   \n",
              "1                                              Yes   \n",
              "2                                              Yes   \n",
              "3                                               No   \n",
              "4                                              Yes   \n",
              "\n",
              "  Which brand of vehicle do you currently own?  \\\n",
              "0                                      Hyundai   \n",
              "1                                        Honda   \n",
              "2                                          KIA   \n",
              "3                                      Hyundai   \n",
              "4                                     McLaren    \n",
              "\n",
              "  How much money could you spend on an Electronic vehicle?  \\\n",
              "0                                           <5 lakhs         \n",
              "1                                          <15 lakhs         \n",
              "2                                          <15 lakhs         \n",
              "3                                           <5 lakhs         \n",
              "4                                          <15 lakhs         \n",
              "\n",
              "   Preference for wheels in EV  \\\n",
              "0                            2   \n",
              "1                            4   \n",
              "2                            4   \n",
              "3                            4   \n",
              "4                            4   \n",
              "\n",
              "  Do you think Electronic vehicles will replace fuel cars in India?  \n",
              "0                                   I don't think so                 \n",
              "1                                   Yes, in <20years                 \n",
              "2                                   Yes, in <20years                 \n",
              "3                                  Yes, in <10 years                 \n",
              "4                                   Yes, in <20years                 "
            ],
            "text/html": [
              "\n",
              "  <div id=\"df-94fbdb73-d6a9-4e49-a781-f1f25242ecec\">\n",
              "    <div class=\"colab-df-container\">\n",
              "      <div>\n",
              "<style scoped>\n",
              "    .dataframe tbody tr th:only-of-type {\n",
              "        vertical-align: middle;\n",
              "    }\n",
              "\n",
              "    .dataframe tbody tr th {\n",
              "        vertical-align: top;\n",
              "    }\n",
              "\n",
              "    .dataframe thead th {\n",
              "        text-align: right;\n",
              "    }\n",
              "</style>\n",
              "<table border=\"1\" class=\"dataframe\">\n",
              "  <thead>\n",
              "    <tr style=\"text-align: right;\">\n",
              "      <th></th>\n",
              "      <th>Age</th>\n",
              "      <th>City</th>\n",
              "      <th>Profession</th>\n",
              "      <th>Marital Status</th>\n",
              "      <th>Education</th>\n",
              "      <th>No. of Family members</th>\n",
              "      <th>Annual Income</th>\n",
              "      <th>Would you prefer replacing all your vehicles to Electronic vehicles?</th>\n",
              "      <th>If Yes/Maybe what type of  EV would you prefer?</th>\n",
              "      <th>Do you think Electronic Vehicles are economical?</th>\n",
              "      <th>Which brand of vehicle do you currently own?</th>\n",
              "      <th>How much money could you spend on an Electronic vehicle?</th>\n",
              "      <th>Preference for wheels in EV</th>\n",
              "      <th>Do you think Electronic vehicles will replace fuel cars in India?</th>\n",
              "    </tr>\n",
              "  </thead>\n",
              "  <tbody>\n",
              "    <tr>\n",
              "      <th>0</th>\n",
              "      <td>30</td>\n",
              "      <td>Nabha</td>\n",
              "      <td>None</td>\n",
              "      <td>Single</td>\n",
              "      <td>Graduate</td>\n",
              "      <td>5</td>\n",
              "      <td>1.193876e+06</td>\n",
              "      <td>Maybe</td>\n",
              "      <td>SUV</td>\n",
              "      <td>Yes</td>\n",
              "      <td>Hyundai</td>\n",
              "      <td>&lt;5 lakhs</td>\n",
              "      <td>2</td>\n",
              "      <td>I don't think so</td>\n",
              "    </tr>\n",
              "    <tr>\n",
              "      <th>1</th>\n",
              "      <td>27</td>\n",
              "      <td>Pune</td>\n",
              "      <td>None</td>\n",
              "      <td>Single</td>\n",
              "      <td>Graduate</td>\n",
              "      <td>4</td>\n",
              "      <td>1.844540e+06</td>\n",
              "      <td>Yes</td>\n",
              "      <td>SUV</td>\n",
              "      <td>Yes</td>\n",
              "      <td>Honda</td>\n",
              "      <td>&lt;15 lakhs</td>\n",
              "      <td>4</td>\n",
              "      <td>Yes, in &lt;20years</td>\n",
              "    </tr>\n",
              "    <tr>\n",
              "      <th>2</th>\n",
              "      <td>32</td>\n",
              "      <td>Kashipur</td>\n",
              "      <td>None</td>\n",
              "      <td>Single</td>\n",
              "      <td>Graduate</td>\n",
              "      <td>4</td>\n",
              "      <td>2.948150e+06</td>\n",
              "      <td>Yes</td>\n",
              "      <td>Hatchback</td>\n",
              "      <td>Yes</td>\n",
              "      <td>KIA</td>\n",
              "      <td>&lt;15 lakhs</td>\n",
              "      <td>4</td>\n",
              "      <td>Yes, in &lt;20years</td>\n",
              "    </tr>\n",
              "    <tr>\n",
              "      <th>3</th>\n",
              "      <td>55</td>\n",
              "      <td>Pune</td>\n",
              "      <td>Business</td>\n",
              "      <td>Single</td>\n",
              "      <td>Graduate</td>\n",
              "      <td>3</td>\n",
              "      <td>2.832380e+06</td>\n",
              "      <td>Maybe</td>\n",
              "      <td>Hatchback</td>\n",
              "      <td>No</td>\n",
              "      <td>Hyundai</td>\n",
              "      <td>&lt;5 lakhs</td>\n",
              "      <td>4</td>\n",
              "      <td>Yes, in &lt;10 years</td>\n",
              "    </tr>\n",
              "    <tr>\n",
              "      <th>4</th>\n",
              "      <td>26</td>\n",
              "      <td>Satara</td>\n",
              "      <td>None</td>\n",
              "      <td>Single</td>\n",
              "      <td>Graduate</td>\n",
              "      <td>4</td>\n",
              "      <td>2.638751e+06</td>\n",
              "      <td>Yes</td>\n",
              "      <td>Sedan</td>\n",
              "      <td>Yes</td>\n",
              "      <td>McLaren</td>\n",
              "      <td>&lt;15 lakhs</td>\n",
              "      <td>4</td>\n",
              "      <td>Yes, in &lt;20years</td>\n",
              "    </tr>\n",
              "  </tbody>\n",
              "</table>\n",
              "</div>\n",
              "      <button class=\"colab-df-convert\" onclick=\"convertToInteractive('df-94fbdb73-d6a9-4e49-a781-f1f25242ecec')\"\n",
              "              title=\"Convert this dataframe to an interactive table.\"\n",
              "              style=\"display:none;\">\n",
              "        \n",
              "  <svg xmlns=\"http://www.w3.org/2000/svg\" height=\"24px\"viewBox=\"0 0 24 24\"\n",
              "       width=\"24px\">\n",
              "    <path d=\"M0 0h24v24H0V0z\" fill=\"none\"/>\n",
              "    <path d=\"M18.56 5.44l.94 2.06.94-2.06 2.06-.94-2.06-.94-.94-2.06-.94 2.06-2.06.94zm-11 1L8.5 8.5l.94-2.06 2.06-.94-2.06-.94L8.5 2.5l-.94 2.06-2.06.94zm10 10l.94 2.06.94-2.06 2.06-.94-2.06-.94-.94-2.06-.94 2.06-2.06.94z\"/><path d=\"M17.41 7.96l-1.37-1.37c-.4-.4-.92-.59-1.43-.59-.52 0-1.04.2-1.43.59L10.3 9.45l-7.72 7.72c-.78.78-.78 2.05 0 2.83L4 21.41c.39.39.9.59 1.41.59.51 0 1.02-.2 1.41-.59l7.78-7.78 2.81-2.81c.8-.78.8-2.07 0-2.86zM5.41 20L4 18.59l7.72-7.72 1.47 1.35L5.41 20z\"/>\n",
              "  </svg>\n",
              "      </button>\n",
              "      \n",
              "  <style>\n",
              "    .colab-df-container {\n",
              "      display:flex;\n",
              "      flex-wrap:wrap;\n",
              "      gap: 12px;\n",
              "    }\n",
              "\n",
              "    .colab-df-convert {\n",
              "      background-color: #E8F0FE;\n",
              "      border: none;\n",
              "      border-radius: 50%;\n",
              "      cursor: pointer;\n",
              "      display: none;\n",
              "      fill: #1967D2;\n",
              "      height: 32px;\n",
              "      padding: 0 0 0 0;\n",
              "      width: 32px;\n",
              "    }\n",
              "\n",
              "    .colab-df-convert:hover {\n",
              "      background-color: #E2EBFA;\n",
              "      box-shadow: 0px 1px 2px rgba(60, 64, 67, 0.3), 0px 1px 3px 1px rgba(60, 64, 67, 0.15);\n",
              "      fill: #174EA6;\n",
              "    }\n",
              "\n",
              "    [theme=dark] .colab-df-convert {\n",
              "      background-color: #3B4455;\n",
              "      fill: #D2E3FC;\n",
              "    }\n",
              "\n",
              "    [theme=dark] .colab-df-convert:hover {\n",
              "      background-color: #434B5C;\n",
              "      box-shadow: 0px 1px 3px 1px rgba(0, 0, 0, 0.15);\n",
              "      filter: drop-shadow(0px 1px 2px rgba(0, 0, 0, 0.3));\n",
              "      fill: #FFFFFF;\n",
              "    }\n",
              "  </style>\n",
              "\n",
              "      <script>\n",
              "        const buttonEl =\n",
              "          document.querySelector('#df-94fbdb73-d6a9-4e49-a781-f1f25242ecec button.colab-df-convert');\n",
              "        buttonEl.style.display =\n",
              "          google.colab.kernel.accessAllowed ? 'block' : 'none';\n",
              "\n",
              "        async function convertToInteractive(key) {\n",
              "          const element = document.querySelector('#df-94fbdb73-d6a9-4e49-a781-f1f25242ecec');\n",
              "          const dataTable =\n",
              "            await google.colab.kernel.invokeFunction('convertToInteractive',\n",
              "                                                     [key], {});\n",
              "          if (!dataTable) return;\n",
              "\n",
              "          const docLinkHtml = 'Like what you see? Visit the ' +\n",
              "            '<a target=\"_blank\" href=https://colab.research.google.com/notebooks/data_table.ipynb>data table notebook</a>'\n",
              "            + ' to learn more about interactive tables.';\n",
              "          element.innerHTML = '';\n",
              "          dataTable['output_type'] = 'display_data';\n",
              "          await google.colab.output.renderOutput(dataTable, element);\n",
              "          const docLink = document.createElement('div');\n",
              "          docLink.innerHTML = docLinkHtml;\n",
              "          element.appendChild(docLink);\n",
              "        }\n",
              "      </script>\n",
              "    </div>\n",
              "  </div>\n",
              "  "
            ]
          },
          "metadata": {},
          "execution_count": 90
        }
      ]
    },
    {
      "cell_type": "markdown",
      "source": [
        "# Checking for missing values"
      ],
      "metadata": {
        "id": "hC40Wew4234e"
      }
    },
    {
      "cell_type": "code",
      "source": [
        "data.isnull().sum()"
      ],
      "metadata": {
        "colab": {
          "base_uri": "https://localhost:8080/"
        },
        "id": "vAOzZc-T257-",
        "outputId": "5853dcce-a14b-4ccd-842b-8c27fe94725f"
      },
      "execution_count": 91,
      "outputs": [
        {
          "output_type": "execute_result",
          "data": {
            "text/plain": [
              "Age                                                                     0\n",
              "City                                                                    0\n",
              "Profession                                                              0\n",
              "Marital Status                                                          0\n",
              "Education                                                               0\n",
              "No. of Family members                                                   0\n",
              "Annual Income                                                           0\n",
              "Would you prefer replacing all your vehicles to Electronic vehicles?    0\n",
              "If Yes/Maybe what type of  EV would you prefer?                         0\n",
              "Do you think Electronic Vehicles are economical?                        0\n",
              "Which brand of vehicle do you currently own?                            0\n",
              "How much money could you spend on an Electronic vehicle?                0\n",
              "Preference for wheels in EV                                             0\n",
              "Do you think Electronic vehicles will replace fuel cars in India?       0\n",
              "dtype: int64"
            ]
          },
          "metadata": {},
          "execution_count": 91
        }
      ]
    },
    {
      "cell_type": "markdown",
      "source": [
        "# Data Visualisation"
      ],
      "metadata": {
        "id": "OxIC0Uer3Ajm"
      }
    },
    {
      "cell_type": "code",
      "source": [
        "plt.figure(figsize=(6,6))\n",
        "sns.distplot(data[\"Age\"])"
      ],
      "metadata": {
        "colab": {
          "base_uri": "https://localhost:8080/",
          "height": 560
        },
        "id": "jzgy7GuB2-SG",
        "outputId": "16bbf623-079e-487b-9894-4715f8904042"
      },
      "execution_count": 92,
      "outputs": [
        {
          "output_type": "execute_result",
          "data": {
            "text/plain": [
              "<Axes: xlabel='Age', ylabel='Density'>"
            ]
          },
          "metadata": {},
          "execution_count": 92
        },
        {
          "output_type": "display_data",
          "data": {
            "text/plain": [
              "<Figure size 600x600 with 1 Axes>"
            ],
            "image/png": "[encoded data removed]"
          },
          "metadata": {}
        }
      ]
    },
    {
      "cell_type": "code",
      "source": [
        "plt.figure(figsize=(6,6))\n",
        "data[\"Profession\"].value_counts().plot(kind=\"pie\",autopct=\"%0.1f%%\")"
      ],
      "metadata": {
        "colab": {
          "base_uri": "https://localhost:8080/",
          "height": 517
        },
        "id": "ukrv83LB3Cvn",
        "outputId": "08dd9330-fb90-439b-a760-8a103be93c4a"
      },
      "execution_count": 93,
      "outputs": [
        {
          "output_type": "execute_result",
          "data": {
            "text/plain": [
              "<Axes: ylabel='Profession'>"
            ]
          },
          "metadata": {},
          "execution_count": 93
        },
        {
          "output_type": "display_data",
          "data": {
            "text/plain": [
              "<Figure size 600x600 with 1 Axes>"
            ],
            "image/png": "[encoded data removed]"
          },
          "metadata": {}
        }
      ]
    },
    {
      "cell_type": "code",
      "source": [
        "data[\"Marital Status\"].value_counts().plot(kind=\"pie\",autopct=\"%0.1f%%\")"
      ],
      "metadata": {
        "colab": {
          "base_uri": "https://localhost:8080/",
          "height": 424
        },
        "id": "EmqGwDGI3EtI",
        "outputId": "4b97f8fc-40bb-40b0-cbba-b89630354350"
      },
      "execution_count": 94,
      "outputs": [
        {
          "output_type": "execute_result",
          "data": {
            "text/plain": [
              "<Axes: ylabel='Marital Status'>"
            ]
          },
          "metadata": {},
          "execution_count": 94
        },
        {
          "output_type": "display_data",
          "data": {
            "text/plain": [
              "<Figure size 640x480 with 1 Axes>"
            ],
            "image/png": "[encoded data removed]"
          },
          "metadata": {}
        }
      ]
    },
    {
      "cell_type": "code",
      "source": [
        "data[\"City\"].unique()"
      ],
      "metadata": {
        "colab": {
          "base_uri": "https://localhost:8080/"
        },
        "id": "xZY780GB3G5o",
        "outputId": "97cf6a0f-9f07-4c1c-b709-15a1ee4a5bad"
      },
      "execution_count": 95,
      "outputs": [
        {
          "output_type": "execute_result",
          "data": {
            "text/plain": [
              "array(['Nabha', 'Pune', 'Kashipur ', 'Satara', 'Noida', 'Delhi', 'Mumbai',\n",
              "       'pune', 'solapur', 'Haldwani ', 'Nellore ', 'Pune ', 'Haldwani',\n",
              "       'Banglore ', 'Faridabad ', 'Nagpur', 'Chandrapur ', 'Chennai',\n",
              "       'Gurugram ', 'Nashik', 'Bengaluru', 'Mumbai ', 'Hakdwani',\n",
              "       'Patiyala', 'pUNE', 'Ahmedabad', 'Karnal', 'Rewari', 'New Delhi',\n",
              "       'Serampore', 'Jhansi', 'New Delhi ', 'Jalandhar', 'Delhi ',\n",
              "       'nashik'], dtype=object)"
            ]
          },
          "metadata": {},
          "execution_count": 95
        }
      ]
    },
    {
      "cell_type": "code",
      "source": [
        "data[\"City\"]=data[\"City\"].replace({\"Pune \":\"Pune\",\"pUNE\":\"Pune\",\"pune\":\"Pune\",\"Pune\":\"Pune\"})\n",
        "data[\"City\"]=data[\"City\"].replace({\"Banglore \":\"Bengaluru\"})\n",
        "data[\"City\"]=data[\"City\"].replace({\"Hakdwani\":\"Haldwani\",\"Haldwani \":\"Haldwani\"})\n",
        "data[\"City\"]=data[\"City\"].replace({\"New Delhi \":\"Delhi\",\"Delhi \":\"Delhi\"})\n",
        "data[\"City\"]=data[\"City\"].replace({\"nashik\":\"Nashik\"})\n",
        "data[\"City\"]=data[\"City\"].replace({\"Mumbai \":\"Mumbai\"})"
      ],
      "metadata": {
        "id": "eecX3UoH3IdH"
      },
      "execution_count": 96,
      "outputs": []
    },
    {
      "cell_type": "code",
      "source": [
        "data[\"City\"].unique()"
      ],
      "metadata": {
        "colab": {
          "base_uri": "https://localhost:8080/"
        },
        "id": "Oz5_8GVv3Kf_",
        "outputId": "b70ad286-66ca-4218-850c-e5f57f917b6c"
      },
      "execution_count": 97,
      "outputs": [
        {
          "output_type": "execute_result",
          "data": {
            "text/plain": [
              "array(['Nabha', 'Pune', 'Kashipur ', 'Satara', 'Noida', 'Delhi', 'Mumbai',\n",
              "       'solapur', 'Haldwani', 'Nellore ', 'Bengaluru', 'Faridabad ',\n",
              "       'Nagpur', 'Chandrapur ', 'Chennai', 'Gurugram ', 'Nashik',\n",
              "       'Patiyala', 'Ahmedabad', 'Karnal', 'Rewari', 'New Delhi',\n",
              "       'Serampore', 'Jhansi', 'Jalandhar'], dtype=object)"
            ]
          },
          "metadata": {},
          "execution_count": 97
        }
      ]
    },
    {
      "cell_type": "code",
      "source": [
        "sns.countplot(x=\"City\",data=data,order=data.City.value_counts().iloc[:5].index)"
      ],
      "metadata": {
        "colab": {
          "base_uri": "https://localhost:8080/",
          "height": 467
        },
        "id": "JYpnxb-T3Nr4",
        "outputId": "874e81e4-191d-4006-80d8-6d25a2d6a332"
      },
      "execution_count": 98,
      "outputs": [
        {
          "output_type": "execute_result",
          "data": {
            "text/plain": [
              "<Axes: xlabel='City', ylabel='count'>"
            ]
          },
          "metadata": {},
          "execution_count": 98
        },
        {
          "output_type": "display_data",
          "data": {
            "text/plain": [
              "<Figure size 640x480 with 1 Axes>"
            ],
            "image/png": "[encoded data removed]"
          },
          "metadata": {}
        }
      ]
    },
    {
      "cell_type": "code",
      "source": [
        "plt.figure(figsize=(6,6))\n",
        "data[\"No. of Family members\"].value_counts().plot(kind=\"bar\",color=\"green\")"
      ],
      "metadata": {
        "colab": {
          "base_uri": "https://localhost:8080/",
          "height": 535
        },
        "id": "IYlX-FOg3PJ_",
        "outputId": "8b7cbacc-994e-40ed-e6a5-d64882b4a3f4"
      },
      "execution_count": 99,
      "outputs": [
        {
          "output_type": "execute_result",
          "data": {
            "text/plain": [
              "<Axes: >"
            ]
          },
          "metadata": {},
          "execution_count": 99
        },
        {
          "output_type": "display_data",
          "data": {
            "text/plain": [
              "<Figure size 600x600 with 1 Axes>"
            ],
            "image/png": "[encoded data removed]"
          },
          "metadata": {}
        }
      ]
    },
    {
      "cell_type": "code",
      "source": [
        "plt.figure(figsize=(6,6))\n",
        "sns.histplot(data[\"Annual Income\"],color=\"blue\")"
      ],
      "metadata": {
        "colab": {
          "base_uri": "https://localhost:8080/",
          "height": 560
        },
        "id": "kQ5SVlxE3Qif",
        "outputId": "c5524a01-65e5-4a5e-ae25-bb9e7b8deaf5"
      },
      "execution_count": 100,
      "outputs": [
        {
          "output_type": "execute_result",
          "data": {
            "text/plain": [
              "<Axes: xlabel='Annual Income', ylabel='Count'>"
            ]
          },
          "metadata": {},
          "execution_count": 100
        },
        {
          "output_type": "display_data",
          "data": {
            "text/plain": [
              "<Figure size 600x600 with 1 Axes>"
            ],
            "image/png": "[encoded data removed]"
          },
          "metadata": {}
        }
      ]
    },
    {
      "cell_type": "code",
      "source": [
        "data[\"Education\"].value_counts().plot(kind=\"bar\",color=\"green\")"
      ],
      "metadata": {
        "colab": {
          "base_uri": "https://localhost:8080/",
          "height": 533
        },
        "id": "6GYsrkXt3SEq",
        "outputId": "8c612e68-7c48-4a51-98da-18dd1fd5e24a"
      },
      "execution_count": 101,
      "outputs": [
        {
          "output_type": "execute_result",
          "data": {
            "text/plain": [
              "<Axes: >"
            ]
          },
          "metadata": {},
          "execution_count": 101
        },
        {
          "output_type": "display_data",
          "data": {
            "text/plain": [
              "<Figure size 640x480 with 1 Axes>"
            ],
            "image/png": "[encoded data removed]"
          },
          "metadata": {}
        }
      ]
    },
    {
      "cell_type": "code",
      "source": [
        "data[\"Do you think Electronic Vehicles are economical?\"].value_counts().plot(kind=\"bar\",color=\"green\")"
      ],
      "metadata": {
        "colab": {
          "base_uri": "https://localhost:8080/",
          "height": 483
        },
        "id": "2wgGxXcZ3lpK",
        "outputId": "66fec59a-220b-48be-dc13-09c5c0564d00"
      },
      "execution_count": 102,
      "outputs": [
        {
          "output_type": "execute_result",
          "data": {
            "text/plain": [
              "<Axes: >"
            ]
          },
          "metadata": {},
          "execution_count": 102
        },
        {
          "output_type": "display_data",
          "data": {
            "text/plain": [
              "<Figure size 640x480 with 1 Axes>"
            ],
            "image/png": "[encoded data removed]"
          },
          "metadata": {}
        }
      ]
    },
    {
      "cell_type": "code",
      "source": [
        "data[\"Preference for wheels in EV\"].value_counts().plot(kind=\"bar\")"
      ],
      "metadata": {
        "colab": {
          "base_uri": "https://localhost:8080/",
          "height": 443
        },
        "id": "62LVVM4N3wbp",
        "outputId": "b6898efa-45f1-4618-f67a-056936f65807"
      },
      "execution_count": 103,
      "outputs": [
        {
          "output_type": "execute_result",
          "data": {
            "text/plain": [
              "<Axes: >"
            ]
          },
          "metadata": {},
          "execution_count": 103
        },
        {
          "output_type": "display_data",
          "data": {
            "text/plain": [
              "<Figure size 640x480 with 1 Axes>"
            ],
            "image/png": "[encoded data removed]"
          },
          "metadata": {}
        }
      ]
    },
    {
      "cell_type": "code",
      "source": [
        "plt.figure(figsize=(8,8))\n",
        "data[\"How much money could you spend on an Electronic vehicle?\"].value_counts().plot(kind=\"bar\")"
      ],
      "metadata": {
        "colab": {
          "base_uri": "https://localhost:8080/",
          "height": 750
        },
        "id": "rqgJLwPK3yY5",
        "outputId": "4e34e497-914a-45bc-bd6d-f99a605c0812"
      },
      "execution_count": 104,
      "outputs": [
        {
          "output_type": "execute_result",
          "data": {
            "text/plain": [
              "<Axes: >"
            ]
          },
          "metadata": {},
          "execution_count": 104
        },
        {
          "output_type": "display_data",
          "data": {
            "text/plain": [
              "<Figure size 800x800 with 1 Axes>"
            ],
            "image/png": "[encoded data removed]"
          },
          "metadata": {}
        }
      ]
    },
    {
      "cell_type": "code",
      "source": [
        "plt.figure(figsize=(7,7))\n",
        "data[\"Which brand of vehicle do you currently own?\"].value_counts().plot(kind=\"bar\")"
      ],
      "metadata": {
        "colab": {
          "base_uri": "https://localhost:8080/",
          "height": 698
        },
        "id": "ZBmj1Qfz4E-x",
        "outputId": "65f8cd2c-dafd-4fd9-f46b-6a4be4096528"
      },
      "execution_count": 105,
      "outputs": [
        {
          "output_type": "execute_result",
          "data": {
            "text/plain": [
              "<Axes: >"
            ]
          },
          "metadata": {},
          "execution_count": 105
        },
        {
          "output_type": "display_data",
          "data": {
            "text/plain": [
              "<Figure size 700x700 with 1 Axes>"
            ],
            "image/png": "[encoded data removed]"
          },
          "metadata": {}
        }
      ]
    },
    {
      "cell_type": "code",
      "source": [
        "plt.figure(figsize=(18,7))\n",
        "sns.countplot(x=\"Age\",data=data,hue=\"Education\")"
      ],
      "metadata": {
        "colab": {
          "base_uri": "https://localhost:8080/",
          "height": 564
        },
        "id": "Vopi-w4H4OJy",
        "outputId": "83341ee9-c118-47c3-8155-85fb4b132fe3"
      },
      "execution_count": 106,
      "outputs": [
        {
          "output_type": "execute_result",
          "data": {
            "text/plain": [
              "<Axes: xlabel='Age', ylabel='count'>"
            ]
          },
          "metadata": {},
          "execution_count": 106
        },
        {
          "output_type": "display_data",
          "data": {
            "text/plain": [
              "<Figure size 1800x700 with 1 Axes>"
            ],
            "image/png": "[encoded data removed]"
          },
          "metadata": {}
        }
      ]
    },
    {
      "cell_type": "code",
      "source": [
        "sns.countplot(x=\"Education\",data=data,hue=\"Do you think Electronic Vehicles are economical?\")"
      ],
      "metadata": {
        "colab": {
          "base_uri": "https://localhost:8080/",
          "height": 467
        },
        "id": "3JJfG6k34QPT",
        "outputId": "477511b1-1245-4381-bd8b-b20a65dd2e71"
      },
      "execution_count": 107,
      "outputs": [
        {
          "output_type": "execute_result",
          "data": {
            "text/plain": [
              "<Axes: xlabel='Education', ylabel='count'>"
            ]
          },
          "metadata": {},
          "execution_count": 107
        },
        {
          "output_type": "display_data",
          "data": {
            "text/plain": [
              "<Figure size 640x480 with 1 Axes>"
            ],
            "image/png": "[encoded data removed]"
          },
          "metadata": {}
        }
      ]
    },
    {
      "cell_type": "code",
      "source": [
        "plt.figure(figsize=(15,6))\n",
        "sns.countplot(x=\"No. of Family members\",data=data,hue=\"Do you think Electronic Vehicles are economical?\")"
      ],
      "metadata": {
        "colab": {
          "base_uri": "https://localhost:8080/",
          "height": 560
        },
        "id": "bzwxV3744SaT",
        "outputId": "54efac9f-4d37-49cc-d7ca-03e0cd2c25f7"
      },
      "execution_count": 108,
      "outputs": [
        {
          "output_type": "execute_result",
          "data": {
            "text/plain": [
              "<Axes: xlabel='No. of Family members', ylabel='count'>"
            ]
          },
          "metadata": {},
          "execution_count": 108
        },
        {
          "output_type": "display_data",
          "data": {
            "text/plain": [
              "<Figure size 1500x600 with 1 Axes>"
            ],
            "image/png": "[encoded data removed]"
          },
          "metadata": {}
        }
      ]
    },
    {
      "cell_type": "code",
      "source": [
        "plt.figure(figsize=(13,6))\n",
        "sns.countplot(x=\"No. of Family members\",data=data,hue=\"Preference for wheels in EV\")"
      ],
      "metadata": {
        "colab": {
          "base_uri": "https://localhost:8080/",
          "height": 564
        },
        "id": "8sbFjl2r4Vai",
        "outputId": "65fefd6b-ad96-42d5-8725-ace550857df4"
      },
      "execution_count": 109,
      "outputs": [
        {
          "output_type": "execute_result",
          "data": {
            "text/plain": [
              "<Axes: xlabel='No. of Family members', ylabel='count'>"
            ]
          },
          "metadata": {},
          "execution_count": 109
        },
        {
          "output_type": "display_data",
          "data": {
            "text/plain": [
              "<Figure size 1300x600 with 1 Axes>"
            ],
            "image/png": "[encoded data removed]"
          },
          "metadata": {}
        }
      ]
    },
    {
      "cell_type": "code",
      "source": [
        "plt.figure(figsize=(15,6))\n",
        "sns.countplot(x=\"Which brand of vehicle do you currently own?\",data=data,hue=\"Profession\")"
      ],
      "metadata": {
        "colab": {
          "base_uri": "https://localhost:8080/",
          "height": 560
        },
        "id": "uA5bxKjY4XRj",
        "outputId": "80d82210-5963-433b-aea7-dc337b75ab9a"
      },
      "execution_count": 110,
      "outputs": [
        {
          "output_type": "execute_result",
          "data": {
            "text/plain": [
              "<Axes: xlabel='Which brand of vehicle do you currently own?', ylabel='count'>"
            ]
          },
          "metadata": {},
          "execution_count": 110
        },
        {
          "output_type": "display_data",
          "data": {
            "text/plain": [
              "<Figure size 1500x600 with 1 Axes>"
            ],
            "image/png": "[encoded data removed]"
          },
          "metadata": {}
        }
      ]
    },
    {
      "cell_type": "markdown",
      "source": [
        "# Correlation"
      ],
      "metadata": {
        "id": "ZGEYBM6m4e7o"
      }
    },
    {
      "cell_type": "code",
      "source": [
        "corr_matrix=data.corr()\n",
        "sns.heatmap(corr_matrix,annot = True, cmap= \"Spectral\")"
      ],
      "metadata": {
        "colab": {
          "base_uri": "https://localhost:8080/",
          "height": 630
        },
        "id": "8r643Nui4aay",
        "outputId": "9c3408a6-64ba-46f4-ec69-e6621f80d6ab"
      },
      "execution_count": 111,
      "outputs": [
        {
          "output_type": "execute_result",
          "data": {
            "text/plain": [
              "<Axes: >"
            ]
          },
          "metadata": {},
          "execution_count": 111
        },
        {
          "output_type": "display_data",
          "data": {
            "text/plain": [
              "<Figure size 640x480 with 2 Axes>"
            ],
            "image/png": "[encoded data removed]"
          },
          "metadata": {}
        }
      ]
    },
    {
      "cell_type": "markdown",
      "source": [
        "# Label Encoding"
      ],
      "metadata": {
        "id": "wHmDoJRg4rvq"
      }
    },
    {
      "cell_type": "code",
      "source": [
        "from sklearn.preprocessing import LabelEncoder\n",
        "def label_encoder(data,column):\n",
        "    label_encoder=LabelEncoder()\n",
        "    return label_encoder.fit_transform(data[column].astype(str))"
      ],
      "metadata": {
        "id": "V65zfxBy4pJy"
      },
      "execution_count": 112,
      "outputs": []
    },
    {
      "cell_type": "code",
      "source": [
        "data.head()"
      ],
      "metadata": {
        "colab": {
          "base_uri": "https://localhost:8080/",
          "height": 423
        },
        "id": "XaTO_vzN4vkC",
        "outputId": "1f35334e-e546-4c38-b728-57076ddbec0a"
      },
      "execution_count": 113,
      "outputs": [
        {
          "output_type": "execute_result",
          "data": {
            "text/plain": [
              "   Age       City Profession Marital Status Education  No. of Family members  \\\n",
              "0   30      Nabha       None         Single  Graduate                      5   \n",
              "1   27       Pune       None         Single  Graduate                      4   \n",
              "2   32  Kashipur        None         Single  Graduate                      4   \n",
              "3   55       Pune   Business         Single  Graduate                      3   \n",
              "4   26     Satara       None         Single  Graduate                      4   \n",
              "\n",
              "   Annual Income  \\\n",
              "0   1.193876e+06   \n",
              "1   1.844540e+06   \n",
              "2   2.948150e+06   \n",
              "3   2.832380e+06   \n",
              "4   2.638751e+06   \n",
              "\n",
              "  Would you prefer replacing all your vehicles to Electronic vehicles?  \\\n",
              "0                                              Maybe                     \n",
              "1                                                Yes                     \n",
              "2                                                Yes                     \n",
              "3                                              Maybe                     \n",
              "4                                                Yes                     \n",
              "\n",
              "  If Yes/Maybe what type of  EV would you prefer?  \\\n",
              "0                                             SUV   \n",
              "1                                             SUV   \n",
              "2                                       Hatchback   \n",
              "3                                       Hatchback   \n",
              "4                                           Sedan   \n",
              "\n",
              "  Do you think Electronic Vehicles are economical?  \\\n",
              "0                                              Yes   \n",
              "1                                              Yes   \n",
              "2                                              Yes   \n",
              "3                                               No   \n",
              "4                                              Yes   \n",
              "\n",
              "  Which brand of vehicle do you currently own?  \\\n",
              "0                                      Hyundai   \n",
              "1                                        Honda   \n",
              "2                                          KIA   \n",
              "3                                      Hyundai   \n",
              "4                                     McLaren    \n",
              "\n",
              "  How much money could you spend on an Electronic vehicle?  \\\n",
              "0                                           <5 lakhs         \n",
              "1                                          <15 lakhs         \n",
              "2                                          <15 lakhs         \n",
              "3                                           <5 lakhs         \n",
              "4                                          <15 lakhs         \n",
              "\n",
              "   Preference for wheels in EV  \\\n",
              "0                            2   \n",
              "1                            4   \n",
              "2                            4   \n",
              "3                            4   \n",
              "4                            4   \n",
              "\n",
              "  Do you think Electronic vehicles will replace fuel cars in India?  \n",
              "0                                   I don't think so                 \n",
              "1                                   Yes, in <20years                 \n",
              "2                                   Yes, in <20years                 \n",
              "3                                  Yes, in <10 years                 \n",
              "4                                   Yes, in <20years                 "
            ],
            "text/html": [
              "\n",
              "  <div id=\"df-9bb1cf98-c5cc-408a-9171-10b0e2e149a4\">\n",
              "    <div class=\"colab-df-container\">\n",
              "      <div>\n",
              "<style scoped>\n",
              "    .dataframe tbody tr th:only-of-type {\n",
              "        vertical-align: middle;\n",
              "    }\n",
              "\n",
              "    .dataframe tbody tr th {\n",
              "        vertical-align: top;\n",
              "    }\n",
              "\n",
              "    .dataframe thead th {\n",
              "        text-align: right;\n",
              "    }\n",
              "</style>\n",
              "<table border=\"1\" class=\"dataframe\">\n",
              "  <thead>\n",
              "    <tr style=\"text-align: right;\">\n",
              "      <th></th>\n",
              "      <th>Age</th>\n",
              "      <th>City</th>\n",
              "      <th>Profession</th>\n",
              "      <th>Marital Status</th>\n",
              "      <th>Education</th>\n",
              "      <th>No. of Family members</th>\n",
              "      <th>Annual Income</th>\n",
              "      <th>Would you prefer replacing all your vehicles to Electronic vehicles?</th>\n",
              "      <th>If Yes/Maybe what type of  EV would you prefer?</th>\n",
              "      <th>Do you think Electronic Vehicles are economical?</th>\n",
              "      <th>Which brand of vehicle do you currently own?</th>\n",
              "      <th>How much money could you spend on an Electronic vehicle?</th>\n",
              "      <th>Preference for wheels in EV</th>\n",
              "      <th>Do you think Electronic vehicles will replace fuel cars in India?</th>\n",
              "    </tr>\n",
              "  </thead>\n",
              "  <tbody>\n",
              "    <tr>\n",
              "      <th>0</th>\n",
              "      <td>30</td>\n",
              "      <td>Nabha</td>\n",
              "      <td>None</td>\n",
              "      <td>Single</td>\n",
              "      <td>Graduate</td>\n",
              "      <td>5</td>\n",
              "      <td>1.193876e+06</td>\n",
              "      <td>Maybe</td>\n",
              "      <td>SUV</td>\n",
              "      <td>Yes</td>\n",
              "      <td>Hyundai</td>\n",
              "      <td>&lt;5 lakhs</td>\n",
              "      <td>2</td>\n",
              "      <td>I don't think so</td>\n",
              "    </tr>\n",
              "    <tr>\n",
              "      <th>1</th>\n",
              "      <td>27</td>\n",
              "      <td>Pune</td>\n",
              "      <td>None</td>\n",
              "      <td>Single</td>\n",
              "      <td>Graduate</td>\n",
              "      <td>4</td>\n",
              "      <td>1.844540e+06</td>\n",
              "      <td>Yes</td>\n",
              "      <td>SUV</td>\n",
              "      <td>Yes</td>\n",
              "      <td>Honda</td>\n",
              "      <td>&lt;15 lakhs</td>\n",
              "      <td>4</td>\n",
              "      <td>Yes, in &lt;20years</td>\n",
              "    </tr>\n",
              "    <tr>\n",
              "      <th>2</th>\n",
              "      <td>32</td>\n",
              "      <td>Kashipur</td>\n",
              "      <td>None</td>\n",
              "      <td>Single</td>\n",
              "      <td>Graduate</td>\n",
              "      <td>4</td>\n",
              "      <td>2.948150e+06</td>\n",
              "      <td>Yes</td>\n",
              "      <td>Hatchback</td>\n",
              "      <td>Yes</td>\n",
              "      <td>KIA</td>\n",
              "      <td>&lt;15 lakhs</td>\n",
              "      <td>4</td>\n",
              "      <td>Yes, in &lt;20years</td>\n",
              "    </tr>\n",
              "    <tr>\n",
              "      <th>3</th>\n",
              "      <td>55</td>\n",
              "      <td>Pune</td>\n",
              "      <td>Business</td>\n",
              "      <td>Single</td>\n",
              "      <td>Graduate</td>\n",
              "      <td>3</td>\n",
              "      <td>2.832380e+06</td>\n",
              "      <td>Maybe</td>\n",
              "      <td>Hatchback</td>\n",
              "      <td>No</td>\n",
              "      <td>Hyundai</td>\n",
              "      <td>&lt;5 lakhs</td>\n",
              "      <td>4</td>\n",
              "      <td>Yes, in &lt;10 years</td>\n",
              "    </tr>\n",
              "    <tr>\n",
              "      <th>4</th>\n",
              "      <td>26</td>\n",
              "      <td>Satara</td>\n",
              "      <td>None</td>\n",
              "      <td>Single</td>\n",
              "      <td>Graduate</td>\n",
              "      <td>4</td>\n",
              "      <td>2.638751e+06</td>\n",
              "      <td>Yes</td>\n",
              "      <td>Sedan</td>\n",
              "      <td>Yes</td>\n",
              "      <td>McLaren</td>\n",
              "      <td>&lt;15 lakhs</td>\n",
              "      <td>4</td>\n",
              "      <td>Yes, in &lt;20years</td>\n",
              "    </tr>\n",
              "  </tbody>\n",
              "</table>\n",
              "</div>\n",
              "      <button class=\"colab-df-convert\" onclick=\"convertToInteractive('df-9bb1cf98-c5cc-408a-9171-10b0e2e149a4')\"\n",
              "              title=\"Convert this dataframe to an interactive table.\"\n",
              "              style=\"display:none;\">\n",
              "        \n",
              "  <svg xmlns=\"http://www.w3.org/2000/svg\" height=\"24px\"viewBox=\"0 0 24 24\"\n",
              "       width=\"24px\">\n",
              "    <path d=\"M0 0h24v24H0V0z\" fill=\"none\"/>\n",
              "    <path d=\"M18.56 5.44l.94 2.06.94-2.06 2.06-.94-2.06-.94-.94-2.06-.94 2.06-2.06.94zm-11 1L8.5 8.5l.94-2.06 2.06-.94-2.06-.94L8.5 2.5l-.94 2.06-2.06.94zm10 10l.94 2.06.94-2.06 2.06-.94-2.06-.94-.94-2.06-.94 2.06-2.06.94z\"/><path d=\"M17.41 7.96l-1.37-1.37c-.4-.4-.92-.59-1.43-.59-.52 0-1.04.2-1.43.59L10.3 9.45l-7.72 7.72c-.78.78-.78 2.05 0 2.83L4 21.41c.39.39.9.59 1.41.59.51 0 1.02-.2 1.41-.59l7.78-7.78 2.81-2.81c.8-.78.8-2.07 0-2.86zM5.41 20L4 18.59l7.72-7.72 1.47 1.35L5.41 20z\"/>\n",
              "  </svg>\n",
              "      </button>\n",
              "      \n",
              "  <style>\n",
              "    .colab-df-container {\n",
              "      display:flex;\n",
              "      flex-wrap:wrap;\n",
              "      gap: 12px;\n",
              "    }\n",
              "\n",
              "    .colab-df-convert {\n",
              "      background-color: #E8F0FE;\n",
              "      border: none;\n",
              "      border-radius: 50%;\n",
              "      cursor: pointer;\n",
              "      display: none;\n",
              "      fill: #1967D2;\n",
              "      height: 32px;\n",
              "      padding: 0 0 0 0;\n",
              "      width: 32px;\n",
              "    }\n",
              "\n",
              "    .colab-df-convert:hover {\n",
              "      background-color: #E2EBFA;\n",
              "      box-shadow: 0px 1px 2px rgba(60, 64, 67, 0.3), 0px 1px 3px 1px rgba(60, 64, 67, 0.15);\n",
              "      fill: #174EA6;\n",
              "    }\n",
              "\n",
              "    [theme=dark] .colab-df-convert {\n",
              "      background-color: #3B4455;\n",
              "      fill: #D2E3FC;\n",
              "    }\n",
              "\n",
              "    [theme=dark] .colab-df-convert:hover {\n",
              "      background-color: #434B5C;\n",
              "      box-shadow: 0px 1px 3px 1px rgba(0, 0, 0, 0.15);\n",
              "      filter: drop-shadow(0px 1px 2px rgba(0, 0, 0, 0.3));\n",
              "      fill: #FFFFFF;\n",
              "    }\n",
              "  </style>\n",
              "\n",
              "      <script>\n",
              "        const buttonEl =\n",
              "          document.querySelector('#df-9bb1cf98-c5cc-408a-9171-10b0e2e149a4 button.colab-df-convert');\n",
              "        buttonEl.style.display =\n",
              "          google.colab.kernel.accessAllowed ? 'block' : 'none';\n",
              "\n",
              "        async function convertToInteractive(key) {\n",
              "          const element = document.querySelector('#df-9bb1cf98-c5cc-408a-9171-10b0e2e149a4');\n",
              "          const dataTable =\n",
              "            await google.colab.kernel.invokeFunction('convertToInteractive',\n",
              "                                                     [key], {});\n",
              "          if (!dataTable) return;\n",
              "\n",
              "          const docLinkHtml = 'Like what you see? Visit the ' +\n",
              "            '<a target=\"_blank\" href=https://colab.research.google.com/notebooks/data_table.ipynb>data table notebook</a>'\n",
              "            + ' to learn more about interactive tables.';\n",
              "          element.innerHTML = '';\n",
              "          dataTable['output_type'] = 'display_data';\n",
              "          await google.colab.output.renderOutput(dataTable, element);\n",
              "          const docLink = document.createElement('div');\n",
              "          docLink.innerHTML = docLinkHtml;\n",
              "          element.appendChild(docLink);\n",
              "        }\n",
              "      </script>\n",
              "    </div>\n",
              "  </div>\n",
              "  "
            ]
          },
          "metadata": {},
          "execution_count": 113
        }
      ]
    },
    {
      "cell_type": "code",
      "source": [
        "data['City']= label_encoder(data,'City')\n",
        "data['Profession']= label_encoder(data,'Profession')\n",
        "data['Marital Status']= label_encoder(data,'Marital Status')\n",
        "data['Education']= label_encoder(data,'Education')"
      ],
      "metadata": {
        "id": "GfOA8-8j4xCC"
      },
      "execution_count": 114,
      "outputs": []
    },
    {
      "cell_type": "code",
      "source": [
        "data.head()"
      ],
      "metadata": {
        "colab": {
          "base_uri": "https://localhost:8080/",
          "height": 406
        },
        "id": "KfPbkkyH4ywj",
        "outputId": "cf171af3-3a87-4cf5-d9a9-cd68864d10d9"
      },
      "execution_count": 115,
      "outputs": [
        {
          "output_type": "execute_result",
          "data": {
            "text/plain": [
              "   Age  City  Profession  Marital Status  Education  No. of Family members  \\\n",
              "0   30    13           1               1          0                      5   \n",
              "1   27    20           1               1          0                      4   \n",
              "2   32    11           1               1          0                      4   \n",
              "3   55    20           0               1          0                      3   \n",
              "4   26    22           1               1          0                      4   \n",
              "\n",
              "   Annual Income  \\\n",
              "0   1.193876e+06   \n",
              "1   1.844540e+06   \n",
              "2   2.948150e+06   \n",
              "3   2.832380e+06   \n",
              "4   2.638751e+06   \n",
              "\n",
              "  Would you prefer replacing all your vehicles to Electronic vehicles?  \\\n",
              "0                                              Maybe                     \n",
              "1                                                Yes                     \n",
              "2                                                Yes                     \n",
              "3                                              Maybe                     \n",
              "4                                                Yes                     \n",
              "\n",
              "  If Yes/Maybe what type of  EV would you prefer?  \\\n",
              "0                                             SUV   \n",
              "1                                             SUV   \n",
              "2                                       Hatchback   \n",
              "3                                       Hatchback   \n",
              "4                                           Sedan   \n",
              "\n",
              "  Do you think Electronic Vehicles are economical?  \\\n",
              "0                                              Yes   \n",
              "1                                              Yes   \n",
              "2                                              Yes   \n",
              "3                                               No   \n",
              "4                                              Yes   \n",
              "\n",
              "  Which brand of vehicle do you currently own?  \\\n",
              "0                                      Hyundai   \n",
              "1                                        Honda   \n",
              "2                                          KIA   \n",
              "3                                      Hyundai   \n",
              "4                                     McLaren    \n",
              "\n",
              "  How much money could you spend on an Electronic vehicle?  \\\n",
              "0                                           <5 lakhs         \n",
              "1                                          <15 lakhs         \n",
              "2                                          <15 lakhs         \n",
              "3                                           <5 lakhs         \n",
              "4                                          <15 lakhs         \n",
              "\n",
              "   Preference for wheels in EV  \\\n",
              "0                            2   \n",
              "1                            4   \n",
              "2                            4   \n",
              "3                            4   \n",
              "4                            4   \n",
              "\n",
              "  Do you think Electronic vehicles will replace fuel cars in India?  \n",
              "0                                   I don't think so                 \n",
              "1                                   Yes, in <20years                 \n",
              "2                                   Yes, in <20years                 \n",
              "3                                  Yes, in <10 years                 \n",
              "4                                   Yes, in <20years                 "
            ],
            "text/html": [
              "\n",
              "  <div id=\"df-2278aded-4ca9-4dce-8240-51a929127e84\">\n",
              "    <div class=\"colab-df-container\">\n",
              "      <div>\n",
              "<style scoped>\n",
              "    .dataframe tbody tr th:only-of-type {\n",
              "        vertical-align: middle;\n",
              "    }\n",
              "\n",
              "    .dataframe tbody tr th {\n",
              "        vertical-align: top;\n",
              "    }\n",
              "\n",
              "    .dataframe thead th {\n",
              "        text-align: right;\n",
              "    }\n",
              "</style>\n",
              "<table border=\"1\" class=\"dataframe\">\n",
              "  <thead>\n",
              "    <tr style=\"text-align: right;\">\n",
              "      <th></th>\n",
              "      <th>Age</th>\n",
              "      <th>City</th>\n",
              "      <th>Profession</th>\n",
              "      <th>Marital Status</th>\n",
              "      <th>Education</th>\n",
              "      <th>No. of Family members</th>\n",
              "      <th>Annual Income</th>\n",
              "      <th>Would you prefer replacing all your vehicles to Electronic vehicles?</th>\n",
              "      <th>If Yes/Maybe what type of  EV would you prefer?</th>\n",
              "      <th>Do you think Electronic Vehicles are economical?</th>\n",
              "      <th>Which brand of vehicle do you currently own?</th>\n",
              "      <th>How much money could you spend on an Electronic vehicle?</th>\n",
              "      <th>Preference for wheels in EV</th>\n",
              "      <th>Do you think Electronic vehicles will replace fuel cars in India?</th>\n",
              "    </tr>\n",
              "  </thead>\n",
              "  <tbody>\n",
              "    <tr>\n",
              "      <th>0</th>\n",
              "      <td>30</td>\n",
              "      <td>13</td>\n",
              "      <td>1</td>\n",
              "      <td>1</td>\n",
              "      <td>0</td>\n",
              "      <td>5</td>\n",
              "      <td>1.193876e+06</td>\n",
              "      <td>Maybe</td>\n",
              "      <td>SUV</td>\n",
              "      <td>Yes</td>\n",
              "      <td>Hyundai</td>\n",
              "      <td>&lt;5 lakhs</td>\n",
              "      <td>2</td>\n",
              "      <td>I don't think so</td>\n",
              "    </tr>\n",
              "    <tr>\n",
              "      <th>1</th>\n",
              "      <td>27</td>\n",
              "      <td>20</td>\n",
              "      <td>1</td>\n",
              "      <td>1</td>\n",
              "      <td>0</td>\n",
              "      <td>4</td>\n",
              "      <td>1.844540e+06</td>\n",
              "      <td>Yes</td>\n",
              "      <td>SUV</td>\n",
              "      <td>Yes</td>\n",
              "      <td>Honda</td>\n",
              "      <td>&lt;15 lakhs</td>\n",
              "      <td>4</td>\n",
              "      <td>Yes, in &lt;20years</td>\n",
              "    </tr>\n",
              "    <tr>\n",
              "      <th>2</th>\n",
              "      <td>32</td>\n",
              "      <td>11</td>\n",
              "      <td>1</td>\n",
              "      <td>1</td>\n",
              "      <td>0</td>\n",
              "      <td>4</td>\n",
              "      <td>2.948150e+06</td>\n",
              "      <td>Yes</td>\n",
              "      <td>Hatchback</td>\n",
              "      <td>Yes</td>\n",
              "      <td>KIA</td>\n",
              "      <td>&lt;15 lakhs</td>\n",
              "      <td>4</td>\n",
              "      <td>Yes, in &lt;20years</td>\n",
              "    </tr>\n",
              "    <tr>\n",
              "      <th>3</th>\n",
              "      <td>55</td>\n",
              "      <td>20</td>\n",
              "      <td>0</td>\n",
              "      <td>1</td>\n",
              "      <td>0</td>\n",
              "      <td>3</td>\n",
              "      <td>2.832380e+06</td>\n",
              "      <td>Maybe</td>\n",
              "      <td>Hatchback</td>\n",
              "      <td>No</td>\n",
              "      <td>Hyundai</td>\n",
              "      <td>&lt;5 lakhs</td>\n",
              "      <td>4</td>\n",
              "      <td>Yes, in &lt;10 years</td>\n",
              "    </tr>\n",
              "    <tr>\n",
              "      <th>4</th>\n",
              "      <td>26</td>\n",
              "      <td>22</td>\n",
              "      <td>1</td>\n",
              "      <td>1</td>\n",
              "      <td>0</td>\n",
              "      <td>4</td>\n",
              "      <td>2.638751e+06</td>\n",
              "      <td>Yes</td>\n",
              "      <td>Sedan</td>\n",
              "      <td>Yes</td>\n",
              "      <td>McLaren</td>\n",
              "      <td>&lt;15 lakhs</td>\n",
              "      <td>4</td>\n",
              "      <td>Yes, in &lt;20years</td>\n",
              "    </tr>\n",
              "  </tbody>\n",
              "</table>\n",
              "</div>\n",
              "      <button class=\"colab-df-convert\" onclick=\"convertToInteractive('df-2278aded-4ca9-4dce-8240-51a929127e84')\"\n",
              "              title=\"Convert this dataframe to an interactive table.\"\n",
              "              style=\"display:none;\">\n",
              "        \n",
              "  <svg xmlns=\"http://www.w3.org/2000/svg\" height=\"24px\"viewBox=\"0 0 24 24\"\n",
              "       width=\"24px\">\n",
              "    <path d=\"M0 0h24v24H0V0z\" fill=\"none\"/>\n",
              "    <path d=\"M18.56 5.44l.94 2.06.94-2.06 2.06-.94-2.06-.94-.94-2.06-.94 2.06-2.06.94zm-11 1L8.5 8.5l.94-2.06 2.06-.94-2.06-.94L8.5 2.5l-.94 2.06-2.06.94zm10 10l.94 2.06.94-2.06 2.06-.94-2.06-.94-.94-2.06-.94 2.06-2.06.94z\"/><path d=\"M17.41 7.96l-1.37-1.37c-.4-.4-.92-.59-1.43-.59-.52 0-1.04.2-1.43.59L10.3 9.45l-7.72 7.72c-.78.78-.78 2.05 0 2.83L4 21.41c.39.39.9.59 1.41.59.51 0 1.02-.2 1.41-.59l7.78-7.78 2.81-2.81c.8-.78.8-2.07 0-2.86zM5.41 20L4 18.59l7.72-7.72 1.47 1.35L5.41 20z\"/>\n",
              "  </svg>\n",
              "      </button>\n",
              "      \n",
              "  <style>\n",
              "    .colab-df-container {\n",
              "      display:flex;\n",
              "      flex-wrap:wrap;\n",
              "      gap: 12px;\n",
              "    }\n",
              "\n",
              "    .colab-df-convert {\n",
              "      background-color: #E8F0FE;\n",
              "      border: none;\n",
              "      border-radius: 50%;\n",
              "      cursor: pointer;\n",
              "      display: none;\n",
              "      fill: #1967D2;\n",
              "      height: 32px;\n",
              "      padding: 0 0 0 0;\n",
              "      width: 32px;\n",
              "    }\n",
              "\n",
              "    .colab-df-convert:hover {\n",
              "      background-color: #E2EBFA;\n",
              "      box-shadow: 0px 1px 2px rgba(60, 64, 67, 0.3), 0px 1px 3px 1px rgba(60, 64, 67, 0.15);\n",
              "      fill: #174EA6;\n",
              "    }\n",
              "\n",
              "    [theme=dark] .colab-df-convert {\n",
              "      background-color: #3B4455;\n",
              "      fill: #D2E3FC;\n",
              "    }\n",
              "\n",
              "    [theme=dark] .colab-df-convert:hover {\n",
              "      background-color: #434B5C;\n",
              "      box-shadow: 0px 1px 3px 1px rgba(0, 0, 0, 0.15);\n",
              "      filter: drop-shadow(0px 1px 2px rgba(0, 0, 0, 0.3));\n",
              "      fill: #FFFFFF;\n",
              "    }\n",
              "  </style>\n",
              "\n",
              "      <script>\n",
              "        const buttonEl =\n",
              "          document.querySelector('#df-2278aded-4ca9-4dce-8240-51a929127e84 button.colab-df-convert');\n",
              "        buttonEl.style.display =\n",
              "          google.colab.kernel.accessAllowed ? 'block' : 'none';\n",
              "\n",
              "        async function convertToInteractive(key) {\n",
              "          const element = document.querySelector('#df-2278aded-4ca9-4dce-8240-51a929127e84');\n",
              "          const dataTable =\n",
              "            await google.colab.kernel.invokeFunction('convertToInteractive',\n",
              "                                                     [key], {});\n",
              "          if (!dataTable) return;\n",
              "\n",
              "          const docLinkHtml = 'Like what you see? Visit the ' +\n",
              "            '<a target=\"_blank\" href=https://colab.research.google.com/notebooks/data_table.ipynb>data table notebook</a>'\n",
              "            + ' to learn more about interactive tables.';\n",
              "          element.innerHTML = '';\n",
              "          dataTable['output_type'] = 'display_data';\n",
              "          await google.colab.output.renderOutput(dataTable, element);\n",
              "          const docLink = document.createElement('div');\n",
              "          docLink.innerHTML = docLinkHtml;\n",
              "          element.appendChild(docLink);\n",
              "        }\n",
              "      </script>\n",
              "    </div>\n",
              "  </div>\n",
              "  "
            ]
          },
          "metadata": {},
          "execution_count": 115
        }
      ]
    },
    {
      "cell_type": "code",
      "source": [
        "data['Would you prefer replacing all your vehicles to Electronic vehicles?']= label_encoder(data,'Would you prefer replacing all your vehicles to Electronic vehicles?')\n",
        "data['If Yes/Maybe what type of  EV would you prefer?']= label_encoder(data,'If Yes/Maybe what type of  EV would you prefer?')\n",
        "data['Do you think Electronic Vehicles are economical?']= label_encoder(data,'Do you think Electronic Vehicles are economical?')\n",
        "data['Which brand of vehicle do you currently own?']= label_encoder(data,'Which brand of vehicle do you currently own?')\n",
        "data['Do you think Electronic vehicles will replace fuel cars in India?']= label_encoder(data,'Do you think Electronic vehicles will replace fuel cars in India?')\n",
        "data['How much money could you spend on an Electronic vehicle?']= label_encoder(data,'How much money could you spend on an Electronic vehicle?')"
      ],
      "metadata": {
        "id": "uihIGDFu40OK"
      },
      "execution_count": 116,
      "outputs": []
    },
    {
      "cell_type": "code",
      "source": [
        "data.head()"
      ],
      "metadata": {
        "colab": {
          "base_uri": "https://localhost:8080/",
          "height": 337
        },
        "id": "DZQ1yLdf41o6",
        "outputId": "445b67ca-ea50-4939-8f57-4180130b1ac9"
      },
      "execution_count": 117,
      "outputs": [
        {
          "output_type": "execute_result",
          "data": {
            "text/plain": [
              "   Age  City  Profession  Marital Status  Education  No. of Family members  \\\n",
              "0   30    13           1               1          0                      5   \n",
              "1   27    20           1               1          0                      4   \n",
              "2   32    11           1               1          0                      4   \n",
              "3   55    20           0               1          0                      3   \n",
              "4   26    22           1               1          0                      4   \n",
              "\n",
              "   Annual Income  \\\n",
              "0   1.193876e+06   \n",
              "1   1.844540e+06   \n",
              "2   2.948150e+06   \n",
              "3   2.832380e+06   \n",
              "4   2.638751e+06   \n",
              "\n",
              "   Would you prefer replacing all your vehicles to Electronic vehicles?  \\\n",
              "0                                                  0                      \n",
              "1                                                  2                      \n",
              "2                                                  2                      \n",
              "3                                                  0                      \n",
              "4                                                  2                      \n",
              "\n",
              "   If Yes/Maybe what type of  EV would you prefer?  \\\n",
              "0                                                3   \n",
              "1                                                3   \n",
              "2                                                1   \n",
              "3                                                1   \n",
              "4                                                4   \n",
              "\n",
              "   Do you think Electronic Vehicles are economical?  \\\n",
              "0                                                 2   \n",
              "1                                                 2   \n",
              "2                                                 2   \n",
              "3                                                 1   \n",
              "4                                                 2   \n",
              "\n",
              "   Which brand of vehicle do you currently own?  \\\n",
              "0                                             4   \n",
              "1                                             3   \n",
              "2                                             5   \n",
              "3                                             4   \n",
              "4                                            10   \n",
              "\n",
              "   How much money could you spend on an Electronic vehicle?  \\\n",
              "0                                                  6          \n",
              "1                                                  4          \n",
              "2                                                  4          \n",
              "3                                                  6          \n",
              "4                                                  4          \n",
              "\n",
              "   Preference for wheels in EV  \\\n",
              "0                            2   \n",
              "1                            4   \n",
              "2                            4   \n",
              "3                            4   \n",
              "4                            4   \n",
              "\n",
              "   Do you think Electronic vehicles will replace fuel cars in India?  \n",
              "0                                                  0                  \n",
              "1                                                  2                  \n",
              "2                                                  2                  \n",
              "3                                                  1                  \n",
              "4                                                  2                  "
            ],
            "text/html": [
              "\n",
              "  <div id=\"df-a591491f-19c6-4e32-9598-2e3b5b98858e\">\n",
              "    <div class=\"colab-df-container\">\n",
              "      <div>\n",
              "<style scoped>\n",
              "    .dataframe tbody tr th:only-of-type {\n",
              "        vertical-align: middle;\n",
              "    }\n",
              "\n",
              "    .dataframe tbody tr th {\n",
              "        vertical-align: top;\n",
              "    }\n",
              "\n",
              "    .dataframe thead th {\n",
              "        text-align: right;\n",
              "    }\n",
              "</style>\n",
              "<table border=\"1\" class=\"dataframe\">\n",
              "  <thead>\n",
              "    <tr style=\"text-align: right;\">\n",
              "      <th></th>\n",
              "      <th>Age</th>\n",
              "      <th>City</th>\n",
              "      <th>Profession</th>\n",
              "      <th>Marital Status</th>\n",
              "      <th>Education</th>\n",
              "      <th>No. of Family members</th>\n",
              "      <th>Annual Income</th>\n",
              "      <th>Would you prefer replacing all your vehicles to Electronic vehicles?</th>\n",
              "      <th>If Yes/Maybe what type of  EV would you prefer?</th>\n",
              "      <th>Do you think Electronic Vehicles are economical?</th>\n",
              "      <th>Which brand of vehicle do you currently own?</th>\n",
              "      <th>How much money could you spend on an Electronic vehicle?</th>\n",
              "      <th>Preference for wheels in EV</th>\n",
              "      <th>Do you think Electronic vehicles will replace fuel cars in India?</th>\n",
              "    </tr>\n",
              "  </thead>\n",
              "  <tbody>\n",
              "    <tr>\n",
              "      <th>0</th>\n",
              "      <td>30</td>\n",
              "      <td>13</td>\n",
              "      <td>1</td>\n",
              "      <td>1</td>\n",
              "      <td>0</td>\n",
              "      <td>5</td>\n",
              "      <td>1.193876e+06</td>\n",
              "      <td>0</td>\n",
              "      <td>3</td>\n",
              "      <td>2</td>\n",
              "      <td>4</td>\n",
              "      <td>6</td>\n",
              "      <td>2</td>\n",
              "      <td>0</td>\n",
              "    </tr>\n",
              "    <tr>\n",
              "      <th>1</th>\n",
              "      <td>27</td>\n",
              "      <td>20</td>\n",
              "      <td>1</td>\n",
              "      <td>1</td>\n",
              "      <td>0</td>\n",
              "      <td>4</td>\n",
              "      <td>1.844540e+06</td>\n",
              "      <td>2</td>\n",
              "      <td>3</td>\n",
              "      <td>2</td>\n",
              "      <td>3</td>\n",
              "      <td>4</td>\n",
              "      <td>4</td>\n",
              "      <td>2</td>\n",
              "    </tr>\n",
              "    <tr>\n",
              "      <th>2</th>\n",
              "      <td>32</td>\n",
              "      <td>11</td>\n",
              "      <td>1</td>\n",
              "      <td>1</td>\n",
              "      <td>0</td>\n",
              "      <td>4</td>\n",
              "      <td>2.948150e+06</td>\n",
              "      <td>2</td>\n",
              "      <td>1</td>\n",
              "      <td>2</td>\n",
              "      <td>5</td>\n",
              "      <td>4</td>\n",
              "      <td>4</td>\n",
              "      <td>2</td>\n",
              "    </tr>\n",
              "    <tr>\n",
              "      <th>3</th>\n",
              "      <td>55</td>\n",
              "      <td>20</td>\n",
              "      <td>0</td>\n",
              "      <td>1</td>\n",
              "      <td>0</td>\n",
              "      <td>3</td>\n",
              "      <td>2.832380e+06</td>\n",
              "      <td>0</td>\n",
              "      <td>1</td>\n",
              "      <td>1</td>\n",
              "      <td>4</td>\n",
              "      <td>6</td>\n",
              "      <td>4</td>\n",
              "      <td>1</td>\n",
              "    </tr>\n",
              "    <tr>\n",
              "      <th>4</th>\n",
              "      <td>26</td>\n",
              "      <td>22</td>\n",
              "      <td>1</td>\n",
              "      <td>1</td>\n",
              "      <td>0</td>\n",
              "      <td>4</td>\n",
              "      <td>2.638751e+06</td>\n",
              "      <td>2</td>\n",
              "      <td>4</td>\n",
              "      <td>2</td>\n",
              "      <td>10</td>\n",
              "      <td>4</td>\n",
              "      <td>4</td>\n",
              "      <td>2</td>\n",
              "    </tr>\n",
              "  </tbody>\n",
              "</table>\n",
              "</div>\n",
              "      <button class=\"colab-df-convert\" onclick=\"convertToInteractive('df-a591491f-19c6-4e32-9598-2e3b5b98858e')\"\n",
              "              title=\"Convert this dataframe to an interactive table.\"\n",
              "              style=\"display:none;\">\n",
              "        \n",
              "  <svg xmlns=\"http://www.w3.org/2000/svg\" height=\"24px\"viewBox=\"0 0 24 24\"\n",
              "       width=\"24px\">\n",
              "    <path d=\"M0 0h24v24H0V0z\" fill=\"none\"/>\n",
              "    <path d=\"M18.56 5.44l.94 2.06.94-2.06 2.06-.94-2.06-.94-.94-2.06-.94 2.06-2.06.94zm-11 1L8.5 8.5l.94-2.06 2.06-.94-2.06-.94L8.5 2.5l-.94 2.06-2.06.94zm10 10l.94 2.06.94-2.06 2.06-.94-2.06-.94-.94-2.06-.94 2.06-2.06.94z\"/><path d=\"M17.41 7.96l-1.37-1.37c-.4-.4-.92-.59-1.43-.59-.52 0-1.04.2-1.43.59L10.3 9.45l-7.72 7.72c-.78.78-.78 2.05 0 2.83L4 21.41c.39.39.9.59 1.41.59.51 0 1.02-.2 1.41-.59l7.78-7.78 2.81-2.81c.8-.78.8-2.07 0-2.86zM5.41 20L4 18.59l7.72-7.72 1.47 1.35L5.41 20z\"/>\n",
              "  </svg>\n",
              "      </button>\n",
              "      \n",
              "  <style>\n",
              "    .colab-df-container {\n",
              "      display:flex;\n",
              "      flex-wrap:wrap;\n",
              "      gap: 12px;\n",
              "    }\n",
              "\n",
              "    .colab-df-convert {\n",
              "      background-color: #E8F0FE;\n",
              "      border: none;\n",
              "      border-radius: 50%;\n",
              "      cursor: pointer;\n",
              "      display: none;\n",
              "      fill: #1967D2;\n",
              "      height: 32px;\n",
              "      padding: 0 0 0 0;\n",
              "      width: 32px;\n",
              "    }\n",
              "\n",
              "    .colab-df-convert:hover {\n",
              "      background-color: #E2EBFA;\n",
              "      box-shadow: 0px 1px 2px rgba(60, 64, 67, 0.3), 0px 1px 3px 1px rgba(60, 64, 67, 0.15);\n",
              "      fill: #174EA6;\n",
              "    }\n",
              "\n",
              "    [theme=dark] .colab-df-convert {\n",
              "      background-color: #3B4455;\n",
              "      fill: #D2E3FC;\n",
              "    }\n",
              "\n",
              "    [theme=dark] .colab-df-convert:hover {\n",
              "      background-color: #434B5C;\n",
              "      box-shadow: 0px 1px 3px 1px rgba(0, 0, 0, 0.15);\n",
              "      filter: drop-shadow(0px 1px 2px rgba(0, 0, 0, 0.3));\n",
              "      fill: #FFFFFF;\n",
              "    }\n",
              "  </style>\n",
              "\n",
              "      <script>\n",
              "        const buttonEl =\n",
              "          document.querySelector('#df-a591491f-19c6-4e32-9598-2e3b5b98858e button.colab-df-convert');\n",
              "        buttonEl.style.display =\n",
              "          google.colab.kernel.accessAllowed ? 'block' : 'none';\n",
              "\n",
              "        async function convertToInteractive(key) {\n",
              "          const element = document.querySelector('#df-a591491f-19c6-4e32-9598-2e3b5b98858e');\n",
              "          const dataTable =\n",
              "            await google.colab.kernel.invokeFunction('convertToInteractive',\n",
              "                                                     [key], {});\n",
              "          if (!dataTable) return;\n",
              "\n",
              "          const docLinkHtml = 'Like what you see? Visit the ' +\n",
              "            '<a target=\"_blank\" href=https://colab.research.google.com/notebooks/data_table.ipynb>data table notebook</a>'\n",
              "            + ' to learn more about interactive tables.';\n",
              "          element.innerHTML = '';\n",
              "          dataTable['output_type'] = 'display_data';\n",
              "          await google.colab.output.renderOutput(dataTable, element);\n",
              "          const docLink = document.createElement('div');\n",
              "          docLink.innerHTML = docLinkHtml;\n",
              "          element.appendChild(docLink);\n",
              "        }\n",
              "      </script>\n",
              "    </div>\n",
              "  </div>\n",
              "  "
            ]
          },
          "metadata": {},
          "execution_count": 117
        }
      ]
    },
    {
      "cell_type": "markdown",
      "source": [
        "# K Means Model"
      ],
      "metadata": {
        "id": "Fet0cmHC44c6"
      }
    },
    {
      "cell_type": "code",
      "source": [
        "data.head()"
      ],
      "metadata": {
        "colab": {
          "base_uri": "https://localhost:8080/",
          "height": 337
        },
        "id": "kSuRPtKV43Ea",
        "outputId": "e88d3777-62ca-469a-8332-8e1001908021"
      },
      "execution_count": 118,
      "outputs": [
        {
          "output_type": "execute_result",
          "data": {
            "text/plain": [
              "   Age  City  Profession  Marital Status  Education  No. of Family members  \\\n",
              "0   30    13           1               1          0                      5   \n",
              "1   27    20           1               1          0                      4   \n",
              "2   32    11           1               1          0                      4   \n",
              "3   55    20           0               1          0                      3   \n",
              "4   26    22           1               1          0                      4   \n",
              "\n",
              "   Annual Income  \\\n",
              "0   1.193876e+06   \n",
              "1   1.844540e+06   \n",
              "2   2.948150e+06   \n",
              "3   2.832380e+06   \n",
              "4   2.638751e+06   \n",
              "\n",
              "   Would you prefer replacing all your vehicles to Electronic vehicles?  \\\n",
              "0                                                  0                      \n",
              "1                                                  2                      \n",
              "2                                                  2                      \n",
              "3                                                  0                      \n",
              "4                                                  2                      \n",
              "\n",
              "   If Yes/Maybe what type of  EV would you prefer?  \\\n",
              "0                                                3   \n",
              "1                                                3   \n",
              "2                                                1   \n",
              "3                                                1   \n",
              "4                                                4   \n",
              "\n",
              "   Do you think Electronic Vehicles are economical?  \\\n",
              "0                                                 2   \n",
              "1                                                 2   \n",
              "2                                                 2   \n",
              "3                                                 1   \n",
              "4                                                 2   \n",
              "\n",
              "   Which brand of vehicle do you currently own?  \\\n",
              "0                                             4   \n",
              "1                                             3   \n",
              "2                                             5   \n",
              "3                                             4   \n",
              "4                                            10   \n",
              "\n",
              "   How much money could you spend on an Electronic vehicle?  \\\n",
              "0                                                  6          \n",
              "1                                                  4          \n",
              "2                                                  4          \n",
              "3                                                  6          \n",
              "4                                                  4          \n",
              "\n",
              "   Preference for wheels in EV  \\\n",
              "0                            2   \n",
              "1                            4   \n",
              "2                            4   \n",
              "3                            4   \n",
              "4                            4   \n",
              "\n",
              "   Do you think Electronic vehicles will replace fuel cars in India?  \n",
              "0                                                  0                  \n",
              "1                                                  2                  \n",
              "2                                                  2                  \n",
              "3                                                  1                  \n",
              "4                                                  2                  "
            ],
            "text/html": [
              "\n",
              "  <div id=\"df-d12d2b21-705c-460d-89e5-f0d04f363671\">\n",
              "    <div class=\"colab-df-container\">\n",
              "      <div>\n",
              "<style scoped>\n",
              "    .dataframe tbody tr th:only-of-type {\n",
              "        vertical-align: middle;\n",
              "    }\n",
              "\n",
              "    .dataframe tbody tr th {\n",
              "        vertical-align: top;\n",
              "    }\n",
              "\n",
              "    .dataframe thead th {\n",
              "        text-align: right;\n",
              "    }\n",
              "</style>\n",
              "<table border=\"1\" class=\"dataframe\">\n",
              "  <thead>\n",
              "    <tr style=\"text-align: right;\">\n",
              "      <th></th>\n",
              "      <th>Age</th>\n",
              "      <th>City</th>\n",
              "      <th>Profession</th>\n",
              "      <th>Marital Status</th>\n",
              "      <th>Education</th>\n",
              "      <th>No. of Family members</th>\n",
              "      <th>Annual Income</th>\n",
              "      <th>Would you prefer replacing all your vehicles to Electronic vehicles?</th>\n",
              "      <th>If Yes/Maybe what type of  EV would you prefer?</th>\n",
              "      <th>Do you think Electronic Vehicles are economical?</th>\n",
              "      <th>Which brand of vehicle do you currently own?</th>\n",
              "      <th>How much money could you spend on an Electronic vehicle?</th>\n",
              "      <th>Preference for wheels in EV</th>\n",
              "      <th>Do you think Electronic vehicles will replace fuel cars in India?</th>\n",
              "    </tr>\n",
              "  </thead>\n",
              "  <tbody>\n",
              "    <tr>\n",
              "      <th>0</th>\n",
              "      <td>30</td>\n",
              "      <td>13</td>\n",
              "      <td>1</td>\n",
              "      <td>1</td>\n",
              "      <td>0</td>\n",
              "      <td>5</td>\n",
              "      <td>1.193876e+06</td>\n",
              "      <td>0</td>\n",
              "      <td>3</td>\n",
              "      <td>2</td>\n",
              "      <td>4</td>\n",
              "      <td>6</td>\n",
              "      <td>2</td>\n",
              "      <td>0</td>\n",
              "    </tr>\n",
              "    <tr>\n",
              "      <th>1</th>\n",
              "      <td>27</td>\n",
              "      <td>20</td>\n",
              "      <td>1</td>\n",
              "      <td>1</td>\n",
              "      <td>0</td>\n",
              "      <td>4</td>\n",
              "      <td>1.844540e+06</td>\n",
              "      <td>2</td>\n",
              "      <td>3</td>\n",
              "      <td>2</td>\n",
              "      <td>3</td>\n",
              "      <td>4</td>\n",
              "      <td>4</td>\n",
              "      <td>2</td>\n",
              "    </tr>\n",
              "    <tr>\n",
              "      <th>2</th>\n",
              "      <td>32</td>\n",
              "      <td>11</td>\n",
              "      <td>1</td>\n",
              "      <td>1</td>\n",
              "      <td>0</td>\n",
              "      <td>4</td>\n",
              "      <td>2.948150e+06</td>\n",
              "      <td>2</td>\n",
              "      <td>1</td>\n",
              "      <td>2</td>\n",
              "      <td>5</td>\n",
              "      <td>4</td>\n",
              "      <td>4</td>\n",
              "      <td>2</td>\n",
              "    </tr>\n",
              "    <tr>\n",
              "      <th>3</th>\n",
              "      <td>55</td>\n",
              "      <td>20</td>\n",
              "      <td>0</td>\n",
              "      <td>1</td>\n",
              "      <td>0</td>\n",
              "      <td>3</td>\n",
              "      <td>2.832380e+06</td>\n",
              "      <td>0</td>\n",
              "      <td>1</td>\n",
              "      <td>1</td>\n",
              "      <td>4</td>\n",
              "      <td>6</td>\n",
              "      <td>4</td>\n",
              "      <td>1</td>\n",
              "    </tr>\n",
              "    <tr>\n",
              "      <th>4</th>\n",
              "      <td>26</td>\n",
              "      <td>22</td>\n",
              "      <td>1</td>\n",
              "      <td>1</td>\n",
              "      <td>0</td>\n",
              "      <td>4</td>\n",
              "      <td>2.638751e+06</td>\n",
              "      <td>2</td>\n",
              "      <td>4</td>\n",
              "      <td>2</td>\n",
              "      <td>10</td>\n",
              "      <td>4</td>\n",
              "      <td>4</td>\n",
              "      <td>2</td>\n",
              "    </tr>\n",
              "  </tbody>\n",
              "</table>\n",
              "</div>\n",
              "      <button class=\"colab-df-convert\" onclick=\"convertToInteractive('df-d12d2b21-705c-460d-89e5-f0d04f363671')\"\n",
              "              title=\"Convert this dataframe to an interactive table.\"\n",
              "              style=\"display:none;\">\n",
              "        \n",
              "  <svg xmlns=\"http://www.w3.org/2000/svg\" height=\"24px\"viewBox=\"0 0 24 24\"\n",
              "       width=\"24px\">\n",
              "    <path d=\"M0 0h24v24H0V0z\" fill=\"none\"/>\n",
              "    <path d=\"M18.56 5.44l.94 2.06.94-2.06 2.06-.94-2.06-.94-.94-2.06-.94 2.06-2.06.94zm-11 1L8.5 8.5l.94-2.06 2.06-.94-2.06-.94L8.5 2.5l-.94 2.06-2.06.94zm10 10l.94 2.06.94-2.06 2.06-.94-2.06-.94-.94-2.06-.94 2.06-2.06.94z\"/><path d=\"M17.41 7.96l-1.37-1.37c-.4-.4-.92-.59-1.43-.59-.52 0-1.04.2-1.43.59L10.3 9.45l-7.72 7.72c-.78.78-.78 2.05 0 2.83L4 21.41c.39.39.9.59 1.41.59.51 0 1.02-.2 1.41-.59l7.78-7.78 2.81-2.81c.8-.78.8-2.07 0-2.86zM5.41 20L4 18.59l7.72-7.72 1.47 1.35L5.41 20z\"/>\n",
              "  </svg>\n",
              "      </button>\n",
              "      \n",
              "  <style>\n",
              "    .colab-df-container {\n",
              "      display:flex;\n",
              "      flex-wrap:wrap;\n",
              "      gap: 12px;\n",
              "    }\n",
              "\n",
              "    .colab-df-convert {\n",
              "      background-color: #E8F0FE;\n",
              "      border: none;\n",
              "      border-radius: 50%;\n",
              "      cursor: pointer;\n",
              "      display: none;\n",
              "      fill: #1967D2;\n",
              "      height: 32px;\n",
              "      padding: 0 0 0 0;\n",
              "      width: 32px;\n",
              "    }\n",
              "\n",
              "    .colab-df-convert:hover {\n",
              "      background-color: #E2EBFA;\n",
              "      box-shadow: 0px 1px 2px rgba(60, 64, 67, 0.3), 0px 1px 3px 1px rgba(60, 64, 67, 0.15);\n",
              "      fill: #174EA6;\n",
              "    }\n",
              "\n",
              "    [theme=dark] .colab-df-convert {\n",
              "      background-color: #3B4455;\n",
              "      fill: #D2E3FC;\n",
              "    }\n",
              "\n",
              "    [theme=dark] .colab-df-convert:hover {\n",
              "      background-color: #434B5C;\n",
              "      box-shadow: 0px 1px 3px 1px rgba(0, 0, 0, 0.15);\n",
              "      filter: drop-shadow(0px 1px 2px rgba(0, 0, 0, 0.3));\n",
              "      fill: #FFFFFF;\n",
              "    }\n",
              "  </style>\n",
              "\n",
              "      <script>\n",
              "        const buttonEl =\n",
              "          document.querySelector('#df-d12d2b21-705c-460d-89e5-f0d04f363671 button.colab-df-convert');\n",
              "        buttonEl.style.display =\n",
              "          google.colab.kernel.accessAllowed ? 'block' : 'none';\n",
              "\n",
              "        async function convertToInteractive(key) {\n",
              "          const element = document.querySelector('#df-d12d2b21-705c-460d-89e5-f0d04f363671');\n",
              "          const dataTable =\n",
              "            await google.colab.kernel.invokeFunction('convertToInteractive',\n",
              "                                                     [key], {});\n",
              "          if (!dataTable) return;\n",
              "\n",
              "          const docLinkHtml = 'Like what you see? Visit the ' +\n",
              "            '<a target=\"_blank\" href=https://colab.research.google.com/notebooks/data_table.ipynb>data table notebook</a>'\n",
              "            + ' to learn more about interactive tables.';\n",
              "          element.innerHTML = '';\n",
              "          dataTable['output_type'] = 'display_data';\n",
              "          await google.colab.output.renderOutput(dataTable, element);\n",
              "          const docLink = document.createElement('div');\n",
              "          docLink.innerHTML = docLinkHtml;\n",
              "          element.appendChild(docLink);\n",
              "        }\n",
              "      </script>\n",
              "    </div>\n",
              "  </div>\n",
              "  "
            ]
          },
          "metadata": {},
          "execution_count": 118
        }
      ]
    },
    {
      "cell_type": "markdown",
      "source": [
        "# Checking for Variance Inflation Factor"
      ],
      "metadata": {
        "id": "tL1R5jx-49Sq"
      }
    },
    {
      "cell_type": "code",
      "source": [
        "y=data[\"City\"]\n",
        "x=data.drop([\"City\"],axis=1)"
      ],
      "metadata": {
        "id": "92nhfDym47d6"
      },
      "execution_count": 119,
      "outputs": []
    },
    {
      "cell_type": "code",
      "source": [
        "from statsmodels.stats.outliers_influence import variance_inflation_factor\n",
        "\n",
        "def vif(x):\n",
        "    vif=pd.DataFrame()\n",
        "    vif['variables']=x.columns\n",
        "    vif['VIF']=[variance_inflation_factor(x.values, i) for i in range(x.shape[1])]\n",
        "    return(vif)"
      ],
      "metadata": {
        "id": "TUZj6Voo4-3B"
      },
      "execution_count": 120,
      "outputs": []
    },
    {
      "cell_type": "code",
      "source": [
        "x=data.iloc[:,:-1]"
      ],
      "metadata": {
        "id": "zaxB9SMu5AGh"
      },
      "execution_count": 121,
      "outputs": []
    },
    {
      "cell_type": "code",
      "source": [
        "vif(x)"
      ],
      "metadata": {
        "colab": {
          "base_uri": "https://localhost:8080/",
          "height": 457
        },
        "id": "c-t5pQd35Bgq",
        "outputId": "68b1e2cd-a6a5-4f6d-b51f-df4522e6e0b2"
      },
      "execution_count": 122,
      "outputs": [
        {
          "output_type": "execute_result",
          "data": {
            "text/plain": [
              "                                            variables        VIF\n",
              "0                                                 Age   8.037117\n",
              "1                                                City   7.935288\n",
              "2                                          Profession   2.909922\n",
              "3                                      Marital Status   2.712630\n",
              "4                                           Education   1.446102\n",
              "5                               No. of Family members   8.307093\n",
              "6                                       Annual Income   5.720670\n",
              "7   Would you prefer replacing all your vehicles t...   4.146009\n",
              "8     If Yes/Maybe what type of  EV would you prefer?   7.139379\n",
              "9    Do you think Electronic Vehicles are economical?   6.277429\n",
              "10       Which brand of vehicle do you currently own?   3.882593\n",
              "11  How much money could you spend on an Electroni...  13.102411\n",
              "12                        Preference for wheels in EV  12.553683"
            ],
            "text/html": [
              "\n",
              "  <div id=\"df-0d687982-f4b8-441a-90cd-f4d70b3aa715\">\n",
              "    <div class=\"colab-df-container\">\n",
              "      <div>\n",
              "<style scoped>\n",
              "    .dataframe tbody tr th:only-of-type {\n",
              "        vertical-align: middle;\n",
              "    }\n",
              "\n",
              "    .dataframe tbody tr th {\n",
              "        vertical-align: top;\n",
              "    }\n",
              "\n",
              "    .dataframe thead th {\n",
              "        text-align: right;\n",
              "    }\n",
              "</style>\n",
              "<table border=\"1\" class=\"dataframe\">\n",
              "  <thead>\n",
              "    <tr style=\"text-align: right;\">\n",
              "      <th></th>\n",
              "      <th>variables</th>\n",
              "      <th>VIF</th>\n",
              "    </tr>\n",
              "  </thead>\n",
              "  <tbody>\n",
              "    <tr>\n",
              "      <th>0</th>\n",
              "      <td>Age</td>\n",
              "      <td>8.037117</td>\n",
              "    </tr>\n",
              "    <tr>\n",
              "      <th>1</th>\n",
              "      <td>City</td>\n",
              "      <td>7.935288</td>\n",
              "    </tr>\n",
              "    <tr>\n",
              "      <th>2</th>\n",
              "      <td>Profession</td>\n",
              "      <td>2.909922</td>\n",
              "    </tr>\n",
              "    <tr>\n",
              "      <th>3</th>\n",
              "      <td>Marital Status</td>\n",
              "      <td>2.712630</td>\n",
              "    </tr>\n",
              "    <tr>\n",
              "      <th>4</th>\n",
              "      <td>Education</td>\n",
              "      <td>1.446102</td>\n",
              "    </tr>\n",
              "    <tr>\n",
              "      <th>5</th>\n",
              "      <td>No. of Family members</td>\n",
              "      <td>8.307093</td>\n",
              "    </tr>\n",
              "    <tr>\n",
              "      <th>6</th>\n",
              "      <td>Annual Income</td>\n",
              "      <td>5.720670</td>\n",
              "    </tr>\n",
              "    <tr>\n",
              "      <th>7</th>\n",
              "      <td>Would you prefer replacing all your vehicles t...</td>\n",
              "      <td>4.146009</td>\n",
              "    </tr>\n",
              "    <tr>\n",
              "      <th>8</th>\n",
              "      <td>If Yes/Maybe what type of  EV would you prefer?</td>\n",
              "      <td>7.139379</td>\n",
              "    </tr>\n",
              "    <tr>\n",
              "      <th>9</th>\n",
              "      <td>Do you think Electronic Vehicles are economical?</td>\n",
              "      <td>6.277429</td>\n",
              "    </tr>\n",
              "    <tr>\n",
              "      <th>10</th>\n",
              "      <td>Which brand of vehicle do you currently own?</td>\n",
              "      <td>3.882593</td>\n",
              "    </tr>\n",
              "    <tr>\n",
              "      <th>11</th>\n",
              "      <td>How much money could you spend on an Electroni...</td>\n",
              "      <td>13.102411</td>\n",
              "    </tr>\n",
              "    <tr>\n",
              "      <th>12</th>\n",
              "      <td>Preference for wheels in EV</td>\n",
              "      <td>12.553683</td>\n",
              "    </tr>\n",
              "  </tbody>\n",
              "</table>\n",
              "</div>\n",
              "      <button class=\"colab-df-convert\" onclick=\"convertToInteractive('df-0d687982-f4b8-441a-90cd-f4d70b3aa715')\"\n",
              "              title=\"Convert this dataframe to an interactive table.\"\n",
              "              style=\"display:none;\">\n",
              "        \n",
              "  <svg xmlns=\"http://www.w3.org/2000/svg\" height=\"24px\"viewBox=\"0 0 24 24\"\n",
              "       width=\"24px\">\n",
              "    <path d=\"M0 0h24v24H0V0z\" fill=\"none\"/>\n",
              "    <path d=\"M18.56 5.44l.94 2.06.94-2.06 2.06-.94-2.06-.94-.94-2.06-.94 2.06-2.06.94zm-11 1L8.5 8.5l.94-2.06 2.06-.94-2.06-.94L8.5 2.5l-.94 2.06-2.06.94zm10 10l.94 2.06.94-2.06 2.06-.94-2.06-.94-.94-2.06-.94 2.06-2.06.94z\"/><path d=\"M17.41 7.96l-1.37-1.37c-.4-.4-.92-.59-1.43-.59-.52 0-1.04.2-1.43.59L10.3 9.45l-7.72 7.72c-.78.78-.78 2.05 0 2.83L4 21.41c.39.39.9.59 1.41.59.51 0 1.02-.2 1.41-.59l7.78-7.78 2.81-2.81c.8-.78.8-2.07 0-2.86zM5.41 20L4 18.59l7.72-7.72 1.47 1.35L5.41 20z\"/>\n",
              "  </svg>\n",
              "      </button>\n",
              "      \n",
              "  <style>\n",
              "    .colab-df-container {\n",
              "      display:flex;\n",
              "      flex-wrap:wrap;\n",
              "      gap: 12px;\n",
              "    }\n",
              "\n",
              "    .colab-df-convert {\n",
              "      background-color: #E8F0FE;\n",
              "      border: none;\n",
              "      border-radius: 50%;\n",
              "      cursor: pointer;\n",
              "      display: none;\n",
              "      fill: #1967D2;\n",
              "      height: 32px;\n",
              "      padding: 0 0 0 0;\n",
              "      width: 32px;\n",
              "    }\n",
              "\n",
              "    .colab-df-convert:hover {\n",
              "      background-color: #E2EBFA;\n",
              "      box-shadow: 0px 1px 2px rgba(60, 64, 67, 0.3), 0px 1px 3px 1px rgba(60, 64, 67, 0.15);\n",
              "      fill: #174EA6;\n",
              "    }\n",
              "\n",
              "    [theme=dark] .colab-df-convert {\n",
              "      background-color: #3B4455;\n",
              "      fill: #D2E3FC;\n",
              "    }\n",
              "\n",
              "    [theme=dark] .colab-df-convert:hover {\n",
              "      background-color: #434B5C;\n",
              "      box-shadow: 0px 1px 3px 1px rgba(0, 0, 0, 0.15);\n",
              "      filter: drop-shadow(0px 1px 2px rgba(0, 0, 0, 0.3));\n",
              "      fill: #FFFFFF;\n",
              "    }\n",
              "  </style>\n",
              "\n",
              "      <script>\n",
              "        const buttonEl =\n",
              "          document.querySelector('#df-0d687982-f4b8-441a-90cd-f4d70b3aa715 button.colab-df-convert');\n",
              "        buttonEl.style.display =\n",
              "          google.colab.kernel.accessAllowed ? 'block' : 'none';\n",
              "\n",
              "        async function convertToInteractive(key) {\n",
              "          const element = document.querySelector('#df-0d687982-f4b8-441a-90cd-f4d70b3aa715');\n",
              "          const dataTable =\n",
              "            await google.colab.kernel.invokeFunction('convertToInteractive',\n",
              "                                                     [key], {});\n",
              "          if (!dataTable) return;\n",
              "\n",
              "          const docLinkHtml = 'Like what you see? Visit the ' +\n",
              "            '<a target=\"_blank\" href=https://colab.research.google.com/notebooks/data_table.ipynb>data table notebook</a>'\n",
              "            + ' to learn more about interactive tables.';\n",
              "          element.innerHTML = '';\n",
              "          dataTable['output_type'] = 'display_data';\n",
              "          await google.colab.output.renderOutput(dataTable, element);\n",
              "          const docLink = document.createElement('div');\n",
              "          docLink.innerHTML = docLinkHtml;\n",
              "          element.appendChild(docLink);\n",
              "        }\n",
              "      </script>\n",
              "    </div>\n",
              "  </div>\n",
              "  "
            ]
          },
          "metadata": {},
          "execution_count": 122
        }
      ]
    },
    {
      "cell_type": "markdown",
      "source": [
        "##Implement the PCA"
      ],
      "metadata": {
        "id": "0c6P_QuHgkXH"
      }
    },
    {
      "cell_type": "code",
      "source": [
        "\n",
        "from sklearn.decomposition import PCA\n",
        "\n",
        "# Perform PCA\n",
        "pca = PCA(n_components=4)\n",
        "pca_data = pca.fit_transform(data)\n",
        "data2 = pd.DataFrame(pca_data, columns=['PC1', 'PC2','PC3','PC4'])\n",
        "data2.head()\n"
      ],
      "metadata": {
        "colab": {
          "base_uri": "https://localhost:8080/",
          "height": 206
        },
        "id": "dZ3ewAlKgnI8",
        "outputId": "c2ad488b-8e8f-43c4-9b03-d947bf728182"
      },
      "execution_count": 123,
      "outputs": [
        {
          "output_type": "execute_result",
          "data": {
            "text/plain": [
              "            PC1        PC2       PC3       PC4\n",
              "0 -1.064466e+06  -1.988454  3.638434  3.526987\n",
              "1 -4.138014e+05  -4.898199 -3.231311  4.876692\n",
              "2  6.898083e+05   0.258903  5.777938  2.516288\n",
              "3  5.740379e+05  23.259288 -3.084549  4.231759\n",
              "4  3.804088e+05  -5.713584 -5.537082 -1.952213"
            ],
            "text/html": [
              "\n",
              "  <div id=\"df-0a9f818f-e55e-47ee-bf27-b0f07ac32844\">\n",
              "    <div class=\"colab-df-container\">\n",
              "      <div>\n",
              "<style scoped>\n",
              "    .dataframe tbody tr th:only-of-type {\n",
              "        vertical-align: middle;\n",
              "    }\n",
              "\n",
              "    .dataframe tbody tr th {\n",
              "        vertical-align: top;\n",
              "    }\n",
              "\n",
              "    .dataframe thead th {\n",
              "        text-align: right;\n",
              "    }\n",
              "</style>\n",
              "<table border=\"1\" class=\"dataframe\">\n",
              "  <thead>\n",
              "    <tr style=\"text-align: right;\">\n",
              "      <th></th>\n",
              "      <th>PC1</th>\n",
              "      <th>PC2</th>\n",
              "      <th>PC3</th>\n",
              "      <th>PC4</th>\n",
              "    </tr>\n",
              "  </thead>\n",
              "  <tbody>\n",
              "    <tr>\n",
              "      <th>0</th>\n",
              "      <td>-1.064466e+06</td>\n",
              "      <td>-1.988454</td>\n",
              "      <td>3.638434</td>\n",
              "      <td>3.526987</td>\n",
              "    </tr>\n",
              "    <tr>\n",
              "      <th>1</th>\n",
              "      <td>-4.138014e+05</td>\n",
              "      <td>-4.898199</td>\n",
              "      <td>-3.231311</td>\n",
              "      <td>4.876692</td>\n",
              "    </tr>\n",
              "    <tr>\n",
              "      <th>2</th>\n",
              "      <td>6.898083e+05</td>\n",
              "      <td>0.258903</td>\n",
              "      <td>5.777938</td>\n",
              "      <td>2.516288</td>\n",
              "    </tr>\n",
              "    <tr>\n",
              "      <th>3</th>\n",
              "      <td>5.740379e+05</td>\n",
              "      <td>23.259288</td>\n",
              "      <td>-3.084549</td>\n",
              "      <td>4.231759</td>\n",
              "    </tr>\n",
              "    <tr>\n",
              "      <th>4</th>\n",
              "      <td>3.804088e+05</td>\n",
              "      <td>-5.713584</td>\n",
              "      <td>-5.537082</td>\n",
              "      <td>-1.952213</td>\n",
              "    </tr>\n",
              "  </tbody>\n",
              "</table>\n",
              "</div>\n",
              "      <button class=\"colab-df-convert\" onclick=\"convertToInteractive('df-0a9f818f-e55e-47ee-bf27-b0f07ac32844')\"\n",
              "              title=\"Convert this dataframe to an interactive table.\"\n",
              "              style=\"display:none;\">\n",
              "        \n",
              "  <svg xmlns=\"http://www.w3.org/2000/svg\" height=\"24px\"viewBox=\"0 0 24 24\"\n",
              "       width=\"24px\">\n",
              "    <path d=\"M0 0h24v24H0V0z\" fill=\"none\"/>\n",
              "    <path d=\"M18.56 5.44l.94 2.06.94-2.06 2.06-.94-2.06-.94-.94-2.06-.94 2.06-2.06.94zm-11 1L8.5 8.5l.94-2.06 2.06-.94-2.06-.94L8.5 2.5l-.94 2.06-2.06.94zm10 10l.94 2.06.94-2.06 2.06-.94-2.06-.94-.94-2.06-.94 2.06-2.06.94z\"/><path d=\"M17.41 7.96l-1.37-1.37c-.4-.4-.92-.59-1.43-.59-.52 0-1.04.2-1.43.59L10.3 9.45l-7.72 7.72c-.78.78-.78 2.05 0 2.83L4 21.41c.39.39.9.59 1.41.59.51 0 1.02-.2 1.41-.59l7.78-7.78 2.81-2.81c.8-.78.8-2.07 0-2.86zM5.41 20L4 18.59l7.72-7.72 1.47 1.35L5.41 20z\"/>\n",
              "  </svg>\n",
              "      </button>\n",
              "      \n",
              "  <style>\n",
              "    .colab-df-container {\n",
              "      display:flex;\n",
              "      flex-wrap:wrap;\n",
              "      gap: 12px;\n",
              "    }\n",
              "\n",
              "    .colab-df-convert {\n",
              "      background-color: #E8F0FE;\n",
              "      border: none;\n",
              "      border-radius: 50%;\n",
              "      cursor: pointer;\n",
              "      display: none;\n",
              "      fill: #1967D2;\n",
              "      height: 32px;\n",
              "      padding: 0 0 0 0;\n",
              "      width: 32px;\n",
              "    }\n",
              "\n",
              "    .colab-df-convert:hover {\n",
              "      background-color: #E2EBFA;\n",
              "      box-shadow: 0px 1px 2px rgba(60, 64, 67, 0.3), 0px 1px 3px 1px rgba(60, 64, 67, 0.15);\n",
              "      fill: #174EA6;\n",
              "    }\n",
              "\n",
              "    [theme=dark] .colab-df-convert {\n",
              "      background-color: #3B4455;\n",
              "      fill: #D2E3FC;\n",
              "    }\n",
              "\n",
              "    [theme=dark] .colab-df-convert:hover {\n",
              "      background-color: #434B5C;\n",
              "      box-shadow: 0px 1px 3px 1px rgba(0, 0, 0, 0.15);\n",
              "      filter: drop-shadow(0px 1px 2px rgba(0, 0, 0, 0.3));\n",
              "      fill: #FFFFFF;\n",
              "    }\n",
              "  </style>\n",
              "\n",
              "      <script>\n",
              "        const buttonEl =\n",
              "          document.querySelector('#df-0a9f818f-e55e-47ee-bf27-b0f07ac32844 button.colab-df-convert');\n",
              "        buttonEl.style.display =\n",
              "          google.colab.kernel.accessAllowed ? 'block' : 'none';\n",
              "\n",
              "        async function convertToInteractive(key) {\n",
              "          const element = document.querySelector('#df-0a9f818f-e55e-47ee-bf27-b0f07ac32844');\n",
              "          const dataTable =\n",
              "            await google.colab.kernel.invokeFunction('convertToInteractive',\n",
              "                                                     [key], {});\n",
              "          if (!dataTable) return;\n",
              "\n",
              "          const docLinkHtml = 'Like what you see? Visit the ' +\n",
              "            '<a target=\"_blank\" href=https://colab.research.google.com/notebooks/data_table.ipynb>data table notebook</a>'\n",
              "            + ' to learn more about interactive tables.';\n",
              "          element.innerHTML = '';\n",
              "          dataTable['output_type'] = 'display_data';\n",
              "          await google.colab.output.renderOutput(dataTable, element);\n",
              "          const docLink = document.createElement('div');\n",
              "          docLink.innerHTML = docLinkHtml;\n",
              "          element.appendChild(docLink);\n",
              "        }\n",
              "      </script>\n",
              "    </div>\n",
              "  </div>\n",
              "  "
            ]
          },
          "metadata": {},
          "execution_count": 123
        }
      ]
    },
    {
      "cell_type": "markdown",
      "source": [
        "##Dendogram\n"
      ],
      "metadata": {
        "id": "SePMSCeeg2w6"
      }
    },
    {
      "cell_type": "code",
      "source": [
        "from scipy.cluster.hierarchy import dendrogram, linkage\n",
        "\n",
        "linked = linkage(data2, 'complete')\n",
        "plt.figure(figsize=(13, 9))\n",
        "dendrogram(linked, orientation='top')\n",
        "plt.show()"
      ],
      "metadata": {
        "colab": {
          "base_uri": "https://localhost:8080/",
          "height": 768
        },
        "id": "EbmIy9QKg5cs",
        "outputId": "47c5433d-7c24-4f76-b52c-d760e4a6526b"
      },
      "execution_count": 124,
      "outputs": [
        {
          "output_type": "display_data",
          "data": {
            "text/plain": [
              "<Figure size 1300x900 with 1 Axes>"
            ],
            "image/png": "[encoded data removed]"
          },
          "metadata": {}
        }
      ]
    },
    {
      "cell_type": "markdown",
      "source": [],
      "metadata": {
        "id": "D5sUqg1ag2jZ"
      }
    },
    {
      "cell_type": "markdown",
      "source": [
        "##Find the number of clusters using Elbow Method"
      ],
      "metadata": {
        "id": "HfkwXNnYgpvn"
      }
    },
    {
      "cell_type": "code",
      "source": [
        "from sklearn.cluster import KMeans\n",
        "\n",
        "# Determine the number of clusters using the Elbow method\n",
        "wcss = []\n",
        "for i in range(1, 11):\n",
        "    kmeans = KMeans(n_clusters=i, init='k-means++', random_state=42)\n",
        "    kmeans.fit(data)\n",
        "    wcss.append(kmeans.inertia_)\n",
        "\n",
        "# Plot the Elbow curve\n",
        "plt.plot(range(1, 11), wcss)\n",
        "plt.xlabel('Number of Clusters')\n",
        "plt.ylabel('WCSS')\n",
        "plt.title('Elbow Method')\n",
        "plt.grid()\n",
        "plt.show()"
      ],
      "metadata": {
        "colab": {
          "base_uri": "https://localhost:8080/",
          "height": 472
        },
        "id": "Jc-Q4KZI5ERK",
        "outputId": "17a6acea-0645-4609-9b29-a98dc2fe34dd"
      },
      "execution_count": 125,
      "outputs": [
        {
          "output_type": "display_data",
          "data": {
            "text/plain": [
              "<Figure size 640x480 with 1 Axes>"
            ],
            "image/png": "[encoded data removed]"
          },
          "metadata": {}
        }
      ]
    },
    {
      "cell_type": "markdown",
      "source": [
        "## Apply the KMeans Clustering algorithm"
      ],
      "metadata": {
        "id": "3eHclY42hZhv"
      }
    },
    {
      "cell_type": "code",
      "source": [
        "\n",
        "\n",
        "# Perform K-means clustering with the optimal number of clusters\n",
        "kmeans = KMeans(n_clusters=4, init='k-means++', random_state=42)\n",
        "kmeans.fit(data)\n"
      ],
      "metadata": {
        "colab": {
          "base_uri": "https://localhost:8080/",
          "height": 74
        },
        "id": "0gf7F3nLzUKT",
        "outputId": "aa80d224-0928-4204-a919-0e691ee8a119"
      },
      "execution_count": 126,
      "outputs": [
        {
          "output_type": "execute_result",
          "data": {
            "text/plain": [
              "KMeans(n_clusters=4, random_state=42)"
            ],
            "text/html": [
              "<style>#sk-container-id-3 {color: black;background-color: white;}#sk-container-id-3 pre{padding: 0;}#sk-container-id-3 div.sk-toggleable {background-color: white;}#sk-container-id-3 label.sk-toggleable__label {cursor: pointer;display: block;width: 100%;margin-bottom: 0;padding: 0.3em;box-sizing: border-box;text-align: center;}#sk-container-id-3 label.sk-toggleable__label-arrow:before {content: \"▸\";float: left;margin-right: 0.25em;color: #696969;}#sk-container-id-3 label.sk-toggleable__label-arrow:hover:before {color: black;}#sk-container-id-3 div.sk-estimator:hover label.sk-toggleable__label-arrow:before {color: black;}#sk-container-id-3 div.sk-toggleable__content {max-height: 0;max-width: 0;overflow: hidden;text-align: left;background-color: #f0f8ff;}#sk-container-id-3 div.sk-toggleable__content pre {margin: 0.2em;color: black;border-radius: 0.25em;background-color: #f0f8ff;}#sk-container-id-3 input.sk-toggleable__control:checked~div.sk-toggleable__content {max-height: 200px;max-width: 100%;overflow: auto;}#sk-container-id-3 input.sk-toggleable__control:checked~label.sk-toggleable__label-arrow:before {content: \"▾\";}#sk-container-id-3 div.sk-estimator input.sk-toggleable__control:checked~label.sk-toggleable__label {background-color: #d4ebff;}#sk-container-id-3 div.sk-label input.sk-toggleable__control:checked~label.sk-toggleable__label {background-color: #d4ebff;}#sk-container-id-3 input.sk-hidden--visually {border: 0;clip: rect(1px 1px 1px 1px);clip: rect(1px, 1px, 1px, 1px);height: 1px;margin: -1px;overflow: hidden;padding: 0;position: absolute;width: 1px;}#sk-container-id-3 div.sk-estimator {font-family: monospace;background-color: #f0f8ff;border: 1px dotted black;border-radius: 0.25em;box-sizing: border-box;margin-bottom: 0.5em;}#sk-container-id-3 div.sk-estimator:hover {background-color: #d4ebff;}#sk-container-id-3 div.sk-parallel-item::after {content: \"\";width: 100%;border-bottom: 1px solid gray;flex-grow: 1;}#sk-container-id-3 div.sk-label:hover label.sk-toggleable__label {background-color: #d4ebff;}#sk-container-id-3 div.sk-serial::before {content: \"\";position: absolute;border-left: 1px solid gray;box-sizing: border-box;top: 0;bottom: 0;left: 50%;z-index: 0;}#sk-container-id-3 div.sk-serial {display: flex;flex-direction: column;align-items: center;background-color: white;padding-right: 0.2em;padding-left: 0.2em;position: relative;}#sk-container-id-3 div.sk-item {position: relative;z-index: 1;}#sk-container-id-3 div.sk-parallel {display: flex;align-items: stretch;justify-content: center;background-color: white;position: relative;}#sk-container-id-3 div.sk-item::before, #sk-container-id-3 div.sk-parallel-item::before {content: \"\";position: absolute;border-left: 1px solid gray;box-sizing: border-box;top: 0;bottom: 0;left: 50%;z-index: -1;}#sk-container-id-3 div.sk-parallel-item {display: flex;flex-direction: column;z-index: 1;position: relative;background-color: white;}#sk-container-id-3 div.sk-parallel-item:first-child::after {align-self: flex-end;width: 50%;}#sk-container-id-3 div.sk-parallel-item:last-child::after {align-self: flex-start;width: 50%;}#sk-container-id-3 div.sk-parallel-item:only-child::after {width: 0;}#sk-container-id-3 div.sk-dashed-wrapped {border: 1px dashed gray;margin: 0 0.4em 0.5em 0.4em;box-sizing: border-box;padding-bottom: 0.4em;background-color: white;}#sk-container-id-3 div.sk-label label {font-family: monospace;font-weight: bold;display: inline-block;line-height: 1.2em;}#sk-container-id-3 div.sk-label-container {text-align: center;}#sk-container-id-3 div.sk-container {/* jupyter's `normalize.less` sets `[hidden] { display: none; }` but bootstrap.min.css set `[hidden] { display: none !important; }` so we also need the `!important` here to be able to override the default hidden behavior on the sphinx rendered scikit-learn.org. See: https://github.com/scikit-learn/scikit-learn/issues/21755 */display: inline-block !important;position: relative;}#sk-container-id-3 div.sk-text-repr-fallback {display: none;}</style><div id=\"sk-container-id-3\" class=\"sk-top-container\"><div class=\"sk-text-repr-fallback\"><pre>KMeans(n_clusters=4, random_state=42)</pre><b>In a Jupyter environment, please rerun this cell to show the HTML representation or trust the notebook. <br />On GitHub, the HTML representation is unable to render, please try loading this page with nbviewer.org.</b></div><div class=\"sk-container\" hidden><div class=\"sk-item\"><div class=\"sk-estimator sk-toggleable\"><input class=\"sk-toggleable__control sk-hidden--visually\" id=\"sk-estimator-id-3\" type=\"checkbox\" checked><label for=\"sk-estimator-id-3\" class=\"sk-toggleable__label sk-toggleable__label-arrow\">KMeans</label><div class=\"sk-toggleable__content\"><pre>KMeans(n_clusters=4, random_state=42)</pre></div></div></div></div></div>"
            ]
          },
          "metadata": {},
          "execution_count": 126
        }
      ]
    },
    {
      "cell_type": "code",
      "source": [
        "\n",
        "\n",
        "# Add the cluster labels to the dataset\n",
        "data['Cluster'] = kmeans.labels_\n",
        "# Visualize the clusters\n",
        "plt.scatter(pca_data[:, 0], pca_data[:, 1], c=data['Cluster'], cmap='viridis')\n",
        "plt.xlabel('Principal Component 1')\n",
        "plt.ylabel('Principal Component 2')\n",
        "plt.title('EV Market Segmentation - Cluster Analysis')\n",
        "plt.show()"
      ],
      "metadata": {
        "colab": {
          "base_uri": "https://localhost:8080/",
          "height": 472
        },
        "id": "mPw-jbbVzfel",
        "outputId": "051293cc-3efa-4f6c-8341-d0108249c88f"
      },
      "execution_count": 127,
      "outputs": [
        {
          "output_type": "display_data",
          "data": {
            "text/plain": [
              "<Figure size 640x480 with 1 Axes>"
            ],
            "image/png": "[encoded data removed]"
          },
          "metadata": {}
        }
      ]
    },
    {
      "cell_type": "markdown",
      "source": [
        "# Making Predictions"
      ],
      "metadata": {
        "id": "ynCXCvzZ5H_J"
      }
    },
    {
      "cell_type": "code",
      "source": [
        "kmeans_predict=KMeans(n_clusters=4,random_state=123)\n",
        "clusters=kmeans_predict.fit_predict(data)\n",
        "data_copy[\"Clusters\"]=clusters"
      ],
      "metadata": {
        "id": "fwKe-ieu5Fca"
      },
      "execution_count": 128,
      "outputs": []
    },
    {
      "cell_type": "code",
      "source": [
        "data_copy.head()"
      ],
      "metadata": {
        "colab": {
          "base_uri": "https://localhost:8080/",
          "height": 478
        },
        "id": "K8uc3ImX5Kvu",
        "outputId": "d35ce9d6-a8b3-4b91-eb3b-3e9e4544d4c7"
      },
      "execution_count": 129,
      "outputs": [
        {
          "output_type": "execute_result",
          "data": {
            "text/plain": [
              "   Unnamed: 0  Age       City Profession Marital Status Education  \\\n",
              "0           0   30      Nabha       None         Single  Graduate   \n",
              "1           1   27       Pune       None         Single  Graduate   \n",
              "2           2   32  Kashipur        None         Single  Graduate   \n",
              "3           3   55       Pune   Business         Single  Graduate   \n",
              "4           4   26     Satara       None         Single  Graduate   \n",
              "\n",
              "   No. of Family members  Annual Income  \\\n",
              "0                      5   1.193876e+06   \n",
              "1                      4   1.844540e+06   \n",
              "2                      4   2.948150e+06   \n",
              "3                      3   2.832380e+06   \n",
              "4                      4   2.638751e+06   \n",
              "\n",
              "  Would you prefer replacing all your vehicles to Electronic vehicles?  \\\n",
              "0                                              Maybe                     \n",
              "1                                                Yes                     \n",
              "2                                                Yes                     \n",
              "3                                              Maybe                     \n",
              "4                                                Yes                     \n",
              "\n",
              "  If Yes/Maybe what type of  EV would you prefer?  \\\n",
              "0                                             SUV   \n",
              "1                                             SUV   \n",
              "2                                       Hatchback   \n",
              "3                                       Hatchback   \n",
              "4                                           Sedan   \n",
              "\n",
              "  Do you think Electronic Vehicles are economical?  \\\n",
              "0                                              Yes   \n",
              "1                                              Yes   \n",
              "2                                              Yes   \n",
              "3                                               No   \n",
              "4                                              Yes   \n",
              "\n",
              "  Which brand of vehicle do you currently own?  \\\n",
              "0                                      Hyundai   \n",
              "1                                        Honda   \n",
              "2                                          KIA   \n",
              "3                                      Hyundai   \n",
              "4                                     McLaren    \n",
              "\n",
              "  How much money could you spend on an Electronic vehicle?  \\\n",
              "0                                           <5 lakhs         \n",
              "1                                          <15 lakhs         \n",
              "2                                          <15 lakhs         \n",
              "3                                           <5 lakhs         \n",
              "4                                          <15 lakhs         \n",
              "\n",
              "   Preference for wheels in EV  \\\n",
              "0                            2   \n",
              "1                            4   \n",
              "2                            4   \n",
              "3                            4   \n",
              "4                            4   \n",
              "\n",
              "  Do you think Electronic vehicles will replace fuel cars in India?  Clusters  \n",
              "0                                   I don't think so                        3  \n",
              "1                                   Yes, in <20years                        0  \n",
              "2                                   Yes, in <20years                        1  \n",
              "3                                  Yes, in <10 years                        1  \n",
              "4                                   Yes, in <20years                        1  "
            ],
            "text/html": [
              "\n",
              "  <div id=\"df-5afaf9c8-8998-4642-a69a-28d7b0baced5\">\n",
              "    <div class=\"colab-df-container\">\n",
              "      <div>\n",
              "<style scoped>\n",
              "    .dataframe tbody tr th:only-of-type {\n",
              "        vertical-align: middle;\n",
              "    }\n",
              "\n",
              "    .dataframe tbody tr th {\n",
              "        vertical-align: top;\n",
              "    }\n",
              "\n",
              "    .dataframe thead th {\n",
              "        text-align: right;\n",
              "    }\n",
              "</style>\n",
              "<table border=\"1\" class=\"dataframe\">\n",
              "  <thead>\n",
              "    <tr style=\"text-align: right;\">\n",
              "      <th></th>\n",
              "      <th>Unnamed: 0</th>\n",
              "      <th>Age</th>\n",
              "      <th>City</th>\n",
              "      <th>Profession</th>\n",
              "      <th>Marital Status</th>\n",
              "      <th>Education</th>\n",
              "      <th>No. of Family members</th>\n",
              "      <th>Annual Income</th>\n",
              "      <th>Would you prefer replacing all your vehicles to Electronic vehicles?</th>\n",
              "      <th>If Yes/Maybe what type of  EV would you prefer?</th>\n",
              "      <th>Do you think Electronic Vehicles are economical?</th>\n",
              "      <th>Which brand of vehicle do you currently own?</th>\n",
              "      <th>How much money could you spend on an Electronic vehicle?</th>\n",
              "      <th>Preference for wheels in EV</th>\n",
              "      <th>Do you think Electronic vehicles will replace fuel cars in India?</th>\n",
              "      <th>Clusters</th>\n",
              "    </tr>\n",
              "  </thead>\n",
              "  <tbody>\n",
              "    <tr>\n",
              "      <th>0</th>\n",
              "      <td>0</td>\n",
              "      <td>30</td>\n",
              "      <td>Nabha</td>\n",
              "      <td>None</td>\n",
              "      <td>Single</td>\n",
              "      <td>Graduate</td>\n",
              "      <td>5</td>\n",
              "      <td>1.193876e+06</td>\n",
              "      <td>Maybe</td>\n",
              "      <td>SUV</td>\n",
              "      <td>Yes</td>\n",
              "      <td>Hyundai</td>\n",
              "      <td>&lt;5 lakhs</td>\n",
              "      <td>2</td>\n",
              "      <td>I don't think so</td>\n",
              "      <td>3</td>\n",
              "    </tr>\n",
              "    <tr>\n",
              "      <th>1</th>\n",
              "      <td>1</td>\n",
              "      <td>27</td>\n",
              "      <td>Pune</td>\n",
              "      <td>None</td>\n",
              "      <td>Single</td>\n",
              "      <td>Graduate</td>\n",
              "      <td>4</td>\n",
              "      <td>1.844540e+06</td>\n",
              "      <td>Yes</td>\n",
              "      <td>SUV</td>\n",
              "      <td>Yes</td>\n",
              "      <td>Honda</td>\n",
              "      <td>&lt;15 lakhs</td>\n",
              "      <td>4</td>\n",
              "      <td>Yes, in &lt;20years</td>\n",
              "      <td>0</td>\n",
              "    </tr>\n",
              "    <tr>\n",
              "      <th>2</th>\n",
              "      <td>2</td>\n",
              "      <td>32</td>\n",
              "      <td>Kashipur</td>\n",
              "      <td>None</td>\n",
              "      <td>Single</td>\n",
              "      <td>Graduate</td>\n",
              "      <td>4</td>\n",
              "      <td>2.948150e+06</td>\n",
              "      <td>Yes</td>\n",
              "      <td>Hatchback</td>\n",
              "      <td>Yes</td>\n",
              "      <td>KIA</td>\n",
              "      <td>&lt;15 lakhs</td>\n",
              "      <td>4</td>\n",
              "      <td>Yes, in &lt;20years</td>\n",
              "      <td>1</td>\n",
              "    </tr>\n",
              "    <tr>\n",
              "      <th>3</th>\n",
              "      <td>3</td>\n",
              "      <td>55</td>\n",
              "      <td>Pune</td>\n",
              "      <td>Business</td>\n",
              "      <td>Single</td>\n",
              "      <td>Graduate</td>\n",
              "      <td>3</td>\n",
              "      <td>2.832380e+06</td>\n",
              "      <td>Maybe</td>\n",
              "      <td>Hatchback</td>\n",
              "      <td>No</td>\n",
              "      <td>Hyundai</td>\n",
              "      <td>&lt;5 lakhs</td>\n",
              "      <td>4</td>\n",
              "      <td>Yes, in &lt;10 years</td>\n",
              "      <td>1</td>\n",
              "    </tr>\n",
              "    <tr>\n",
              "      <th>4</th>\n",
              "      <td>4</td>\n",
              "      <td>26</td>\n",
              "      <td>Satara</td>\n",
              "      <td>None</td>\n",
              "      <td>Single</td>\n",
              "      <td>Graduate</td>\n",
              "      <td>4</td>\n",
              "      <td>2.638751e+06</td>\n",
              "      <td>Yes</td>\n",
              "      <td>Sedan</td>\n",
              "      <td>Yes</td>\n",
              "      <td>McLaren</td>\n",
              "      <td>&lt;15 lakhs</td>\n",
              "      <td>4</td>\n",
              "      <td>Yes, in &lt;20years</td>\n",
              "      <td>1</td>\n",
              "    </tr>\n",
              "  </tbody>\n",
              "</table>\n",
              "</div>\n",
              "      <button class=\"colab-df-convert\" onclick=\"convertToInteractive('df-5afaf9c8-8998-4642-a69a-28d7b0baced5')\"\n",
              "              title=\"Convert this dataframe to an interactive table.\"\n",
              "              style=\"display:none;\">\n",
              "        \n",
              "  <svg xmlns=\"http://www.w3.org/2000/svg\" height=\"24px\"viewBox=\"0 0 24 24\"\n",
              "       width=\"24px\">\n",
              "    <path d=\"M0 0h24v24H0V0z\" fill=\"none\"/>\n",
              "    <path d=\"M18.56 5.44l.94 2.06.94-2.06 2.06-.94-2.06-.94-.94-2.06-.94 2.06-2.06.94zm-11 1L8.5 8.5l.94-2.06 2.06-.94-2.06-.94L8.5 2.5l-.94 2.06-2.06.94zm10 10l.94 2.06.94-2.06 2.06-.94-2.06-.94-.94-2.06-.94 2.06-2.06.94z\"/><path d=\"M17.41 7.96l-1.37-1.37c-.4-.4-.92-.59-1.43-.59-.52 0-1.04.2-1.43.59L10.3 9.45l-7.72 7.72c-.78.78-.78 2.05 0 2.83L4 21.41c.39.39.9.59 1.41.59.51 0 1.02-.2 1.41-.59l7.78-7.78 2.81-2.81c.8-.78.8-2.07 0-2.86zM5.41 20L4 18.59l7.72-7.72 1.47 1.35L5.41 20z\"/>\n",
              "  </svg>\n",
              "      </button>\n",
              "      \n",
              "  <style>\n",
              "    .colab-df-container {\n",
              "      display:flex;\n",
              "      flex-wrap:wrap;\n",
              "      gap: 12px;\n",
              "    }\n",
              "\n",
              "    .colab-df-convert {\n",
              "      background-color: #E8F0FE;\n",
              "      border: none;\n",
              "      border-radius: 50%;\n",
              "      cursor: pointer;\n",
              "      display: none;\n",
              "      fill: #1967D2;\n",
              "      height: 32px;\n",
              "      padding: 0 0 0 0;\n",
              "      width: 32px;\n",
              "    }\n",
              "\n",
              "    .colab-df-convert:hover {\n",
              "      background-color: #E2EBFA;\n",
              "      box-shadow: 0px 1px 2px rgba(60, 64, 67, 0.3), 0px 1px 3px 1px rgba(60, 64, 67, 0.15);\n",
              "      fill: #174EA6;\n",
              "    }\n",
              "\n",
              "    [theme=dark] .colab-df-convert {\n",
              "      background-color: #3B4455;\n",
              "      fill: #D2E3FC;\n",
              "    }\n",
              "\n",
              "    [theme=dark] .colab-df-convert:hover {\n",
              "      background-color: #434B5C;\n",
              "      box-shadow: 0px 1px 3px 1px rgba(0, 0, 0, 0.15);\n",
              "      filter: drop-shadow(0px 1px 2px rgba(0, 0, 0, 0.3));\n",
              "      fill: #FFFFFF;\n",
              "    }\n",
              "  </style>\n",
              "\n",
              "      <script>\n",
              "        const buttonEl =\n",
              "          document.querySelector('#df-5afaf9c8-8998-4642-a69a-28d7b0baced5 button.colab-df-convert');\n",
              "        buttonEl.style.display =\n",
              "          google.colab.kernel.accessAllowed ? 'block' : 'none';\n",
              "\n",
              "        async function convertToInteractive(key) {\n",
              "          const element = document.querySelector('#df-5afaf9c8-8998-4642-a69a-28d7b0baced5');\n",
              "          const dataTable =\n",
              "            await google.colab.kernel.invokeFunction('convertToInteractive',\n",
              "                                                     [key], {});\n",
              "          if (!dataTable) return;\n",
              "\n",
              "          const docLinkHtml = 'Like what you see? Visit the ' +\n",
              "            '<a target=\"_blank\" href=https://colab.research.google.com/notebooks/data_table.ipynb>data table notebook</a>'\n",
              "            + ' to learn more about interactive tables.';\n",
              "          element.innerHTML = '';\n",
              "          dataTable['output_type'] = 'display_data';\n",
              "          await google.colab.output.renderOutput(dataTable, element);\n",
              "          const docLink = document.createElement('div');\n",
              "          docLink.innerHTML = docLinkHtml;\n",
              "          element.appendChild(docLink);\n",
              "        }\n",
              "      </script>\n",
              "    </div>\n",
              "  </div>\n",
              "  "
            ]
          },
          "metadata": {},
          "execution_count": 129
        }
      ]
    },
    {
      "cell_type": "code",
      "source": [
        "data_copy[\"Clusters\"].value_counts()"
      ],
      "metadata": {
        "colab": {
          "base_uri": "https://localhost:8080/"
        },
        "id": "xy5SAmEj5MOi",
        "outputId": "c7abaef5-6aa4-42a2-b430-8cd693e03fb7"
      },
      "execution_count": 130,
      "outputs": [
        {
          "output_type": "execute_result",
          "data": {
            "text/plain": [
              "1    434\n",
              "0    366\n",
              "3    193\n",
              "2      7\n",
              "Name: Clusters, dtype: int64"
            ]
          },
          "metadata": {},
          "execution_count": 130
        }
      ]
    },
    {
      "cell_type": "code",
      "source": [
        "data_copy[\"City\"]=data_copy[\"City\"].replace({\"Pune \":\"Pune\",\"pUNE\":\"Pune\",\"pune\":\"Pune\",\"Pune\":\"Pune\"})\n",
        "data_copy[\"City\"]=data_copy[\"City\"].replace({\"Banglore \":\"Bengaluru\"})\n",
        "data_copy[\"City\"]=data_copy[\"City\"].replace({\"Hakdwani\":\"Haldwani\",\"Haldwani \":\"Haldwani\"})\n",
        "data_copy[\"City\"]=data_copy[\"City\"].replace({\"New Delhi \":\"Delhi\",\"Delhi \":\"Delhi\"})\n",
        "data_copy[\"City\"]=data_copy[\"City\"].replace({\"nashik\":\"Nashik\"})\n",
        "data_copy[\"City\"]=data_copy[\"City\"].replace({\"Mumbai \":\"Mumbai\"})"
      ],
      "metadata": {
        "id": "V5UM-Ua65ODq"
      },
      "execution_count": 131,
      "outputs": []
    },
    {
      "cell_type": "markdown",
      "source": [
        "# Bifurcating the data according to the cluster"
      ],
      "metadata": {
        "id": "ULz9hm8e5S5z"
      }
    },
    {
      "cell_type": "code",
      "source": [
        "Cluster_0=data_copy[data_copy.Clusters==0]\n",
        "Cluster_1=data_copy[data_copy.Clusters==1]\n",
        "Cluster_2=data_copy[data_copy.Clusters==2]\n",
        "Cluster_3=data_copy[data_copy.Clusters==3]"
      ],
      "metadata": {
        "id": "WGNp4Dgm5PwR"
      },
      "execution_count": 132,
      "outputs": []
    },
    {
      "cell_type": "markdown",
      "source": [
        "# Demographic Segments"
      ],
      "metadata": {
        "id": "6_gCXZdd5Wgd"
      }
    },
    {
      "cell_type": "markdown",
      "source": [
        "### Age Group\n"
      ],
      "metadata": {
        "id": "A1z0tbEs5ZYk"
      }
    },
    {
      "cell_type": "code",
      "source": [
        "[Cluster_0[\"Age\"].value_counts().head(),\n",
        "Cluster_1[\"Age\"].value_counts().head(),\n",
        "Cluster_2[\"Age\"].value_counts().head(),\n",
        "Cluster_3[\"Age\"].value_counts().head()]\n",
        "\n",
        "# Age group of 28-31 needs to be targeted"
      ],
      "metadata": {
        "colab": {
          "base_uri": "https://localhost:8080/"
        },
        "id": "g2IBB34l5Utq",
        "outputId": "915f3e34-3a8a-409a-ac52-d9b802742c57"
      },
      "execution_count": 133,
      "outputs": [
        {
          "output_type": "execute_result",
          "data": {
            "text/plain": [
              "[29    45\n",
              " 28    42\n",
              " 30    37\n",
              " 31    36\n",
              " 27    35\n",
              " Name: Age, dtype: int64,\n",
              " 29    48\n",
              " 28    43\n",
              " 30    43\n",
              " 25    39\n",
              " 26    39\n",
              " Name: Age, dtype: int64,\n",
              " 30    2\n",
              " 26    1\n",
              " 29    1\n",
              " 56    1\n",
              " 28    1\n",
              " Name: Age, dtype: int64,\n",
              " 31    27\n",
              " 30    23\n",
              " 29    22\n",
              " 27    18\n",
              " 28    16\n",
              " Name: Age, dtype: int64]"
            ]
          },
          "metadata": {},
          "execution_count": 133
        }
      ]
    },
    {
      "cell_type": "markdown",
      "source": [
        "##Profession"
      ],
      "metadata": {
        "id": "-BXJ8lOmMVJL"
      }
    },
    {
      "cell_type": "code",
      "source": [
        "[Cluster_0[\"Profession\"].value_counts().head(),\n",
        "Cluster_1[\"Profession\"].value_counts().head(),\n",
        "Cluster_2[\"Profession\"].value_counts().head(),\n",
        "Cluster_3[\"Profession\"].value_counts().head()]"
      ],
      "metadata": {
        "colab": {
          "base_uri": "https://localhost:8080/"
        },
        "id": "YOh2iDTVMOjW",
        "outputId": "6028294c-6ed9-4270-ff61-c84e575e586e"
      },
      "execution_count": 134,
      "outputs": [
        {
          "output_type": "execute_result",
          "data": {
            "text/plain": [
              "[None                    158\n",
              " Working Professional    133\n",
              " Business                 61\n",
              " Salaried                 14\n",
              " Name: Profession, dtype: int64,\n",
              " None                    210\n",
              " Working Professional    136\n",
              " Business                 73\n",
              " Salaried                 15\n",
              " Name: Profession, dtype: int64,\n",
              " None                    5\n",
              " Working Professional    1\n",
              " Business                1\n",
              " Name: Profession, dtype: int64,\n",
              " None                    87\n",
              " Working Professional    66\n",
              " Business                32\n",
              " Salaried                 8\n",
              " Name: Profession, dtype: int64]"
            ]
          },
          "metadata": {},
          "execution_count": 134
        }
      ]
    },
    {
      "cell_type": "markdown",
      "source": [
        "###Education"
      ],
      "metadata": {
        "id": "JtuvtQZE5dNt"
      }
    },
    {
      "cell_type": "code",
      "source": [
        "[Cluster_0[\"Education\"].value_counts().head(),\n",
        "Cluster_1[\"Education\"].value_counts().head(),\n",
        "Cluster_2[\"Education\"].value_counts().head(),\n",
        "Cluster_3[\"Education\"].value_counts().head()]\n",
        "\n",
        "# Graduate people needs to be targeted most"
      ],
      "metadata": {
        "colab": {
          "base_uri": "https://localhost:8080/"
        },
        "id": "oJV8kQME5bBc",
        "outputId": "241c1320-3a9e-4c23-8b3e-05b084c046e1"
      },
      "execution_count": 135,
      "outputs": [
        {
          "output_type": "execute_result",
          "data": {
            "text/plain": [
              "[Graduate         260\n",
              " Post Graduate    106\n",
              " Name: Education, dtype: int64,\n",
              " Graduate         300\n",
              " Post Graduate    134\n",
              " Name: Education, dtype: int64,\n",
              " Graduate         5\n",
              " Post Graduate    2\n",
              " Name: Education, dtype: int64,\n",
              " Graduate         128\n",
              " Post Graduate     65\n",
              " Name: Education, dtype: int64]"
            ]
          },
          "metadata": {},
          "execution_count": 135
        }
      ]
    },
    {
      "cell_type": "markdown",
      "source": [
        "### Income group"
      ],
      "metadata": {
        "id": "63yZ3IiA5kJm"
      }
    },
    {
      "cell_type": "code",
      "source": [
        "[Cluster_0[\"Annual Income\"].mean(),\n",
        "Cluster_1[\"Annual Income\"].mean(),\n",
        "Cluster_2[\"Annual Income\"].mean(),\n",
        "Cluster_3[\"Annual Income\"].mean()]\n",
        "\n",
        "# Cluster 1 has the highest average income, followed by cluster 0,3,2"
      ],
      "metadata": {
        "colab": {
          "base_uri": "https://localhost:8080/"
        },
        "id": "dS8w4w5p5h8M",
        "outputId": "c26e2898-50e2-4cc1-f51c-e5b29d6b4548"
      },
      "execution_count": 136,
      "outputs": [
        {
          "output_type": "execute_result",
          "data": {
            "text/plain": [
              "[2058283.2568936772, 2808684.4456641255, 10737228.104106281, 1092645.106776382]"
            ]
          },
          "metadata": {},
          "execution_count": 136
        }
      ]
    },
    {
      "cell_type": "markdown",
      "source": [
        "# Geographic Segments"
      ],
      "metadata": {
        "id": "kXQYmntQ5qY0"
      }
    },
    {
      "cell_type": "code",
      "source": [
        "[Cluster_0[\"City\"].value_counts().head(),\n",
        "Cluster_1[\"City\"].value_counts().head(),\n",
        "Cluster_2[\"City\"].value_counts().head(),\n",
        "Cluster_3[\"City\"].value_counts().head()]\n",
        "\n",
        "# Pune and Mumbai are present in all the cluster and they are more suitable to target the EV Market\n",
        "# Delhi, Haldwani and Bengaluru should be the next city to target\n",
        "# Followed by Satara and Chennai"
      ],
      "metadata": {
        "colab": {
          "base_uri": "https://localhost:8080/"
        },
        "id": "2ZXd3B2S5msF",
        "outputId": "947c9bca-ea62-4513-c964-53b2935eabf6"
      },
      "execution_count": 137,
      "outputs": [
        {
          "output_type": "execute_result",
          "data": {
            "text/plain": [
              "[Pune        230\n",
              " Mumbai       16\n",
              " Delhi        13\n",
              " Haldwani     11\n",
              " Satara        9\n",
              " Name: City, dtype: int64,\n",
              " Pune         281\n",
              " Mumbai        24\n",
              " Delhi         17\n",
              " Bengaluru     12\n",
              " New Delhi     11\n",
              " Name: City, dtype: int64,\n",
              " Pune         4\n",
              " Mumbai       2\n",
              " Ahmedabad    1\n",
              " Name: City, dtype: int64,\n",
              " Pune        106\n",
              " Mumbai       14\n",
              " Delhi         8\n",
              " Haldwani      6\n",
              " Chennai       6\n",
              " Name: City, dtype: int64]"
            ]
          },
          "metadata": {},
          "execution_count": 137
        }
      ]
    },
    {
      "cell_type": "markdown",
      "source": [
        "# Psychographic segments"
      ],
      "metadata": {
        "id": "mHFIqqDo5u89"
      }
    },
    {
      "cell_type": "markdown",
      "source": [
        "### Martial Status"
      ],
      "metadata": {
        "id": "Z9q4ohm15ynQ"
      }
    },
    {
      "cell_type": "code",
      "source": [
        "[Cluster_0[\"Marital Status\"].value_counts().head(),\n",
        "Cluster_1[\"Marital Status\"].value_counts().head(),\n",
        "Cluster_2[\"Marital Status\"].value_counts().head(),\n",
        "Cluster_3[\"Marital Status\"].value_counts().head()]\n",
        "\n",
        "# Single People should be the targeted"
      ],
      "metadata": {
        "colab": {
          "base_uri": "https://localhost:8080/"
        },
        "id": "2iAsikO_5sD2",
        "outputId": "7c82ff29-95a0-496b-bb6a-29a838c7b5bf"
      },
      "execution_count": 138,
      "outputs": [
        {
          "output_type": "execute_result",
          "data": {
            "text/plain": [
              "[Single     219\n",
              " Married    147\n",
              " Name: Marital Status, dtype: int64,\n",
              " Single     285\n",
              " Married    149\n",
              " Name: Marital Status, dtype: int64,\n",
              " Married    5\n",
              " Single     2\n",
              " Name: Marital Status, dtype: int64,\n",
              " Single     132\n",
              " Married     61\n",
              " Name: Marital Status, dtype: int64]"
            ]
          },
          "metadata": {},
          "execution_count": 138
        }
      ]
    },
    {
      "cell_type": "markdown",
      "source": [
        "##No of Family Memebers"
      ],
      "metadata": {
        "id": "u7e494SkSy6a"
      }
    },
    {
      "cell_type": "code",
      "source": [
        "[Cluster_0[\"No. of Family members\"].value_counts().head(),\n",
        "Cluster_1[\"No. of Family members\"].value_counts().head(),\n",
        "Cluster_2[\"No. of Family members\"].value_counts().head(),\n",
        "Cluster_3[\"No. of Family members\"].value_counts().head()]\n",
        "\n",
        "# Family having 3 to 5 should be targeted as they are more interested in CV"
      ],
      "metadata": {
        "colab": {
          "base_uri": "https://localhost:8080/"
        },
        "id": "-KRAhNDA51fh",
        "outputId": "27c3f174-2844-4f72-c166-bc48f8d51f25"
      },
      "execution_count": 139,
      "outputs": [
        {
          "output_type": "execute_result",
          "data": {
            "text/plain": [
              "[4    192\n",
              " 5     57\n",
              " 3     46\n",
              " 8     22\n",
              " 6     13\n",
              " Name: No. of Family members, dtype: int64,\n",
              " 4    234\n",
              " 5     63\n",
              " 3     59\n",
              " 6     22\n",
              " 2     14\n",
              " Name: No. of Family members, dtype: int64,\n",
              " 4    3\n",
              " 6    2\n",
              " 5    1\n",
              " 8    1\n",
              " Name: No. of Family members, dtype: int64,\n",
              " 4    87\n",
              " 5    37\n",
              " 3    22\n",
              " 6    13\n",
              " 8    12\n",
              " Name: No. of Family members, dtype: int64]"
            ]
          },
          "metadata": {},
          "execution_count": 139
        }
      ]
    },
    {
      "cell_type": "markdown",
      "source": [
        "# EV type Preference"
      ],
      "metadata": {
        "id": "GeB8IPaO56jZ"
      }
    },
    {
      "cell_type": "code",
      "source": [
        "[Cluster_0[\"Preference for wheels in EV\"].value_counts().head(),\n",
        "Cluster_1[\"Preference for wheels in EV\"].value_counts().head(),\n",
        "Cluster_2[\"Preference for wheels in EV\"].value_counts().head(),\n",
        "Cluster_3[\"Preference for wheels in EV\"].value_counts().head()]\n",
        "\n",
        "# 4 wheeler are more preferred EV vehicle in the market\n",
        "# Followed by 2 wheeler and 3 wheeler"
      ],
      "metadata": {
        "colab": {
          "base_uri": "https://localhost:8080/"
        },
        "id": "9ug85sD953vY",
        "outputId": "26d2c474-56b4-446e-bc3e-713060d5c93f"
      },
      "execution_count": 140,
      "outputs": [
        {
          "output_type": "execute_result",
          "data": {
            "text/plain": [
              "[4    230\n",
              " 2    100\n",
              " 3     36\n",
              " Name: Preference for wheels in EV, dtype: int64,\n",
              " 4    266\n",
              " 2    126\n",
              " 3     42\n",
              " Name: Preference for wheels in EV, dtype: int64,\n",
              " 4    4\n",
              " 2    2\n",
              " 3    1\n",
              " Name: Preference for wheels in EV, dtype: int64,\n",
              " 4    129\n",
              " 2     52\n",
              " 3     12\n",
              " Name: Preference for wheels in EV, dtype: int64]"
            ]
          },
          "metadata": {},
          "execution_count": 140
        }
      ]
    },
    {
      "cell_type": "code",
      "source": [
        "[Cluster_0['Which brand of vehicle do you currently own?'].value_counts().head(),\n",
        " Cluster_1['Which brand of vehicle do you currently own?'].value_counts().head(),\n",
        " Cluster_2['Which brand of vehicle do you currently own?'].value_counts().head(),\n",
        " Cluster_3['Which brand of vehicle do you currently own?'].value_counts().head()]\n",
        "\n",
        "# Tata is the most preferred brand in all the cluster\n",
        "# Hyundai and KIA is the 2nd best preferred brand in the market\n",
        "# Followed by Honda and Nissian"
      ],
      "metadata": {
        "colab": {
          "base_uri": "https://localhost:8080/"
        },
        "id": "2Chi40QP5-Wp",
        "outputId": "82bf64c9-45d5-46cc-c08b-76a2cedfb953"
      },
      "execution_count": 141,
      "outputs": [
        {
          "output_type": "execute_result",
          "data": {
            "text/plain": [
              "[Tata       68\n",
              " Hyundai    62\n",
              " KIA        53\n",
              " Honda      51\n",
              " Nissan     47\n",
              " Name: Which brand of vehicle do you currently own?, dtype: int64,\n",
              " Tata       79\n",
              " Hyundai    71\n",
              " Honda      66\n",
              " KIA        62\n",
              " Nissan     53\n",
              " Name: Which brand of vehicle do you currently own?, dtype: int64,\n",
              " Tata       3\n",
              " KIA        1\n",
              " MG         1\n",
              " Honda      1\n",
              " Hyundai    1\n",
              " Name: Which brand of vehicle do you currently own?, dtype: int64,\n",
              " Tata       36\n",
              " Hyundai    31\n",
              " KIA        28\n",
              " Honda      26\n",
              " Nissan     22\n",
              " Name: Which brand of vehicle do you currently own?, dtype: int64]"
            ]
          },
          "metadata": {},
          "execution_count": 141
        }
      ]
    },
    {
      "cell_type": "code",
      "source": [
        "print(Cluster_0['If Yes/Maybe what type of  EV would you prefer?'].value_counts().head())\n",
        "print(Cluster_1['If Yes/Maybe what type of  EV would you prefer?'].value_counts().head())\n",
        "print(Cluster_2['If Yes/Maybe what type of  EV would you prefer?'].value_counts().head())\n",
        "print(Cluster_3['If Yes/Maybe what type of  EV would you prefer?'].value_counts().head())\n",
        "\n",
        "#Suv and Sedan are the most preferred EV in all the cluster\n",
        "# Followed by Hatchback and Liftback being 2nd preferred EV\n",
        "#Cabrio being the least preferred"
      ],
      "metadata": {
        "colab": {
          "base_uri": "https://localhost:8080/"
        },
        "id": "fJ8h_TPo6B4y",
        "outputId": "dbec504c-8458-48e1-f993-e965a6bf5ce6"
      },
      "execution_count": 142,
      "outputs": [
        {
          "output_type": "stream",
          "name": "stdout",
          "text": [
            "SUV          175\n",
            "Sedan         84\n",
            "Hatchback     54\n",
            "Liftback      43\n",
            "Cabrio        10\n",
            "Name: If Yes/Maybe what type of  EV would you prefer?, dtype: int64\n",
            "SUV          193\n",
            "Sedan        116\n",
            "Hatchback     63\n",
            "Liftback      46\n",
            "Cabrio        16\n",
            "Name: If Yes/Maybe what type of  EV would you prefer?, dtype: int64\n",
            "SUV          3\n",
            "Sedan        2\n",
            "Hatchback    1\n",
            "Liftback     1\n",
            "Name: If Yes/Maybe what type of  EV would you prefer?, dtype: int64\n",
            "SUV          96\n",
            "Sedan        38\n",
            "Liftback     30\n",
            "Hatchback    26\n",
            "Cabrio        3\n",
            "Name: If Yes/Maybe what type of  EV would you prefer?, dtype: int64\n"
          ]
        }
      ]
    },
    {
      "cell_type": "code",
      "source": [
        "[Cluster_0[\"How much money could you spend on an Electronic vehicle?\"].value_counts().head(),\n",
        "Cluster_1[\"How much money could you spend on an Electronic vehicle?\"].value_counts().head(),\n",
        "Cluster_2[\"How much money could you spend on an Electronic vehicle?\"].value_counts().head(),\n",
        "Cluster_3[\"How much money could you spend on an Electronic vehicle?\"].value_counts().head()]"
      ],
      "metadata": {
        "colab": {
          "base_uri": "https://localhost:8080/"
        },
        "id": "u14Lcp7S6EwS",
        "outputId": "4fc164f8-3c30-4997-ad43-9707b05e6e82"
      },
      "execution_count": 143,
      "outputs": [
        {
          "output_type": "execute_result",
          "data": {
            "text/plain": [
              "[<15 lakhs    159\n",
              " <5 lakhs     106\n",
              " <25 lakhs     69\n",
              " >25 lakhs     14\n",
              " 700000         6\n",
              " Name: How much money could you spend on an Electronic vehicle?, dtype: int64,\n",
              " <15 lakhs    219\n",
              " <5 lakhs     128\n",
              " <25 lakhs     49\n",
              " >25 lakhs     15\n",
              " 1200000        7\n",
              " Name: How much money could you spend on an Electronic vehicle?, dtype: int64,\n",
              " <15 lakhs    3\n",
              " <5 lakhs     3\n",
              " <25 lakhs    1\n",
              " Name: How much money could you spend on an Electronic vehicle?, dtype: int64,\n",
              " <15 lakhs    102\n",
              " <5 lakhs      51\n",
              " <25 lakhs     29\n",
              " >25 lakhs      5\n",
              " 1200000        3\n",
              " Name: How much money could you spend on an Electronic vehicle?, dtype: int64]"
            ]
          },
          "metadata": {},
          "execution_count": 143
        }
      ]
    },
    {
      "cell_type": "markdown",
      "source": [
        " ### <15 lakh for EV - 48.3%, <5 lakh for EV - 28.8%, <25 lakh for EV - 14.8%, >25 lakh for EV - 3.4%"
      ],
      "metadata": {
        "id": "b-nzpdP6Su_L"
      }
    },
    {
      "cell_type": "markdown",
      "source": [
        "##Behavioral Segmentation\n"
      ],
      "metadata": {
        "id": "9bsN7ljEaC3o"
      }
    },
    {
      "cell_type": "markdown",
      "source": [
        "##Preference for replacing all vehicles to Electronic vehicles?"
      ],
      "metadata": {
        "id": "WHPUFh_Tafb5"
      }
    },
    {
      "cell_type": "code",
      "source": [
        "[Cluster_0[\"Would you prefer replacing all your vehicles to Electronic vehicles?\"].value_counts().head(),\n",
        "Cluster_1[\"Would you prefer replacing all your vehicles to Electronic vehicles?\"].value_counts().head(),\n",
        "Cluster_2[\"Would you prefer replacing all your vehicles to Electronic vehicles?\"].value_counts().head(),\n",
        "Cluster_3[\"Would you prefer replacing all your vehicles to Electronic vehicles?\"].value_counts().head()]"
      ],
      "metadata": {
        "colab": {
          "base_uri": "https://localhost:8080/"
        },
        "id": "FgRR0aAcaCii",
        "outputId": "c953583c-90d3-49c6-a70e-f5aceefb7f3c"
      },
      "execution_count": 144,
      "outputs": [
        {
          "output_type": "execute_result",
          "data": {
            "text/plain": [
              "[Yes      235\n",
              " Maybe     76\n",
              " No        55\n",
              " Name: Would you prefer replacing all your vehicles to Electronic vehicles?, dtype: int64,\n",
              " Yes      287\n",
              " Maybe     87\n",
              " No        60\n",
              " Name: Would you prefer replacing all your vehicles to Electronic vehicles?, dtype: int64,\n",
              " Yes    7\n",
              " Name: Would you prefer replacing all your vehicles to Electronic vehicles?, dtype: int64,\n",
              " Yes      134\n",
              " Maybe     38\n",
              " No        21\n",
              " Name: Would you prefer replacing all your vehicles to Electronic vehicles?, dtype: int64]"
            ]
          },
          "metadata": {},
          "execution_count": 144
        }
      ]
    },
    {
      "cell_type": "markdown",
      "source": [
        "##If Yes/Maybe what type of EV would you prefer?"
      ],
      "metadata": {
        "id": "BcDfOndkag7K"
      }
    },
    {
      "cell_type": "code",
      "source": [
        "[Cluster_0[\"If Yes/Maybe what type of  EV would you prefer?\"].value_counts().head(),\n",
        "Cluster_1[\"If Yes/Maybe what type of  EV would you prefer?\"].value_counts().head(),\n",
        "Cluster_2[\"If Yes/Maybe what type of  EV would you prefer?\"].value_counts().head(),\n",
        "Cluster_3[\"If Yes/Maybe what type of  EV would you prefer?\"].value_counts().head()]"
      ],
      "metadata": {
        "colab": {
          "base_uri": "https://localhost:8080/"
        },
        "id": "L-p1spQZavLE",
        "outputId": "1ff15a56-ad2c-4671-e624-64a454703846"
      },
      "execution_count": 145,
      "outputs": [
        {
          "output_type": "execute_result",
          "data": {
            "text/plain": [
              "[SUV          175\n",
              " Sedan         84\n",
              " Hatchback     54\n",
              " Liftback      43\n",
              " Cabrio        10\n",
              " Name: If Yes/Maybe what type of  EV would you prefer?, dtype: int64,\n",
              " SUV          193\n",
              " Sedan        116\n",
              " Hatchback     63\n",
              " Liftback      46\n",
              " Cabrio        16\n",
              " Name: If Yes/Maybe what type of  EV would you prefer?, dtype: int64,\n",
              " SUV          3\n",
              " Sedan        2\n",
              " Hatchback    1\n",
              " Liftback     1\n",
              " Name: If Yes/Maybe what type of  EV would you prefer?, dtype: int64,\n",
              " SUV          96\n",
              " Sedan        38\n",
              " Liftback     30\n",
              " Hatchback    26\n",
              " Cabrio        3\n",
              " Name: If Yes/Maybe what type of  EV would you prefer?, dtype: int64]"
            ]
          },
          "metadata": {},
          "execution_count": 145
        }
      ]
    },
    {
      "cell_type": "markdown",
      "source": [
        "##Do you think Electronic Vehicles are economical?"
      ],
      "metadata": {
        "id": "TVdAHSvDayCA"
      }
    },
    {
      "cell_type": "code",
      "source": [
        "[Cluster_0[\"Do you think Electronic Vehicles are economical?\"].value_counts().head(),\n",
        "Cluster_1[\"Do you think Electronic Vehicles are economical?\"].value_counts().head(),\n",
        "Cluster_2[\"Do you think Electronic Vehicles are economical?\"].value_counts().head(),\n",
        "Cluster_3[\"Do you think Electronic Vehicles are economical?\"].value_counts().head()]"
      ],
      "metadata": {
        "colab": {
          "base_uri": "https://localhost:8080/"
        },
        "id": "qEkyWHqzazPA",
        "outputId": "80ff9f9a-60c7-42b1-a473-4e67a52717dc"
      },
      "execution_count": 146,
      "outputs": [
        {
          "output_type": "execute_result",
          "data": {
            "text/plain": [
              "[Yes      284\n",
              " Maybe     43\n",
              " No        39\n",
              " Name: Do you think Electronic Vehicles are economical?, dtype: int64,\n",
              " Yes      333\n",
              " Maybe     53\n",
              " No        48\n",
              " Name: Do you think Electronic Vehicles are economical?, dtype: int64,\n",
              " Yes      4\n",
              " Maybe    2\n",
              " No       1\n",
              " Name: Do you think Electronic Vehicles are economical?, dtype: int64,\n",
              " Yes      147\n",
              " Maybe     25\n",
              " No        21\n",
              " Name: Do you think Electronic Vehicles are economical?, dtype: int64]"
            ]
          },
          "metadata": {},
          "execution_count": 146
        }
      ]
    },
    {
      "cell_type": "markdown",
      "source": [
        "## Do you think Electronic vehicles will replace fuel cars in India?"
      ],
      "metadata": {
        "id": "Kf7R5hbobUwo"
      }
    },
    {
      "cell_type": "code",
      "source": [
        "[Cluster_0[\"Do you think Electronic vehicles will replace fuel cars in India?\"].value_counts().head(),\n",
        "Cluster_1[\"Do you think Electronic vehicles will replace fuel cars in India?\"].value_counts().head(),\n",
        "Cluster_2[\"Do you think Electronic vehicles will replace fuel cars in India?\"].value_counts().head(),\n",
        "Cluster_3[\"Do you think Electronic vehicles will replace fuel cars in India?\"].value_counts().head()]"
      ],
      "metadata": {
        "colab": {
          "base_uri": "https://localhost:8080/"
        },
        "id": "4V2l_9U1beDa",
        "outputId": "77495f2b-8c10-4b8e-b1e9-d707e6fca3f9"
      },
      "execution_count": 147,
      "outputs": [
        {
          "output_type": "execute_result",
          "data": {
            "text/plain": [
              "[Yes, in <10 years               155\n",
              " Yes, in <20years                133\n",
              " Yes, possibly after 20 years     53\n",
              " I don't think so                 25\n",
              " Name: Do you think Electronic vehicles will replace fuel cars in India?, dtype: int64,\n",
              " Yes, in <10 years               186\n",
              " Yes, in <20years                176\n",
              " Yes, possibly after 20 years     55\n",
              " I don't think so                 17\n",
              " Name: Do you think Electronic vehicles will replace fuel cars in India?, dtype: int64,\n",
              " Yes, in <10 years               4\n",
              " Yes, possibly after 20 years    2\n",
              " Yes, in <20years                1\n",
              " Name: Do you think Electronic vehicles will replace fuel cars in India?, dtype: int64,\n",
              " Yes, in <20years                77\n",
              " Yes, in <10 years               74\n",
              " Yes, possibly after 20 years    22\n",
              " I don't think so                20\n",
              " Name: Do you think Electronic vehicles will replace fuel cars in India?, dtype: int64]"
            ]
          },
          "metadata": {},
          "execution_count": 147
        }
      ]
    }
  ]
}